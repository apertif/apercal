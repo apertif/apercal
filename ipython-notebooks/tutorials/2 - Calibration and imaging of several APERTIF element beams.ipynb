{
 "cells": [
  {
   "cell_type": "markdown",
   "metadata": {
    "collapsed": true
   },
   "source": [
    "# Apercal tutorial 2: Calibration and imaging of several APERTIF element beams"
   ]
  },
  {
   "cell_type": "markdown",
   "metadata": {},
   "source": [
    "After we have successfully calibrated the central element beam of an APERTIF observation we now also want to calibrate and image several beams. For this tutorial we take a dataset from our reference field, the Lockman Hole. Let's start the pipeline again as we did in the last tutorial. Remember to change all the directory paths to your own ones."
   ]
  },
  {
   "cell_type": "code",
   "execution_count": 1,
   "metadata": {},
   "outputs": [
    {
     "name": "stderr",
     "output_type": "stream",
     "text": [
      "/home/apercal/pipeline/local/lib/python2.7/site-packages/pyfits/__init__.py:22: PyFITSDeprecationWarning: PyFITS is deprecated, please use astropy.io.fits\n",
      "  PyFITSDeprecationWarning)  # noqa\n",
      "root - INFO : Logging started!\n",
      "root - INFO : To see the log in a bash window use the following command:\n",
      "root - INFO : tail -n +1 -f /home/adebahr/apercal/ipython-notebooks/tutorials/logs/2.log\n"
     ]
    },
    {
     "name": "stdout",
     "output_type": "stream",
     "text": [
      "Setup logger with lib.setup_logger()\n"
     ]
    }
   ],
   "source": [
    "import os;\n",
    "myusername = os.environ['USER']\n",
    "if not ('PYTHONPATH' in os.environ and\n",
    "        '/home/' + myusername + '/apercal' in os.environ['PYTHONPATH']):\n",
    "      print(\"WARNING: your apercal directory should be in the $PYTHONPATH\")\n",
    "\n",
    "%config IPCompleter.greedy=True\n",
    "%matplotlib notebook\n",
    "import libs.lib as lib\n",
    "lib.setup_logger('info', logfile='/home/{}/apercal/ipython-notebooks/tutorials/logs/2.log'.format(myusername))\n",
    "\n",
    "import apercal"
   ]
  },
  {
   "cell_type": "markdown",
   "metadata": {},
   "source": [
    "Load the config file for the tutorial and look at it."
   ]
  },
  {
   "cell_type": "code",
   "execution_count": null,
   "metadata": {
    "scrolled": true
   },
   "outputs": [],
   "source": [
    "prepare = apercal.prepare('/home/{}/apercal/ipython-notebooks/tutorials/cfg/2.cfg'.format(myusername))\n",
    "prepare.show(showall=True)"
   ]
  },
  {
   "cell_type": "markdown",
   "metadata": {},
   "source": [
    "We have to set `prepare_obsmode = multi_element` since these observations were carried out with the full bandwidth in multi-element mode. The prepare step will copy all 37 beams. You might want to stop the step after the third or fourth copied target dataset. The full processing of all beams would need around a day. The pipeline will still work with fewer copied beams. <br>\n",
    "Just make sure that all datasets in your directory are correct and not corrupted (most likely you will have to remove the last copied dataset manually since it wasn't copied completely)."
   ]
  },
  {
   "cell_type": "code",
   "execution_count": null,
   "metadata": {
    "scrolled": true
   },
   "outputs": [],
   "source": [
    "prepare.go()"
   ]
  },
  {
   "cell_type": "markdown",
   "metadata": {},
   "source": [
    "As before we have to execute the individual preflag substeps manually."
   ]
  },
  {
   "cell_type": "code",
   "execution_count": null,
   "metadata": {
    "scrolled": true
   },
   "outputs": [],
   "source": [
    "preflag = apercal.preflag('/home/{}/apercal/ipython-notebooks/tutorials/cfg/2.cfg'.format(myusername))\n",
    "\n",
    "nchannel = 11008\n",
    "\n",
    "a = range(0, nchannel, 64) # the subband edges\n",
    "b = range(1, nchannel, 64)\n",
    "c = range(63, nchannel, 64)\n",
    "d = range(16, nchannel, 64) # the two ghosts\n",
    "e = range(48, nchannel, 64)\n",
    "l = a + b + c + d + e\n",
    "preflag.preflag_manualflag_channel = ';'.join(str(ch) for ch in l)\n",
    "\n",
    "preflag.show()"
   ]
  },
  {
   "cell_type": "markdown",
   "metadata": {},
   "source": [
    "We want to flag auto-correlations and shadowed antennas. The preflag step automatically recognises the other beams and flags them as well using the same pattern."
   ]
  },
  {
   "cell_type": "code",
   "execution_count": null,
   "metadata": {},
   "outputs": [],
   "source": [
    "preflag.manualflag()"
   ]
  },
  {
   "cell_type": "markdown",
   "metadata": {},
   "source": [
    "First derive the bandpass for the flagging. This is automatically applied to all target element beams."
   ]
  },
  {
   "cell_type": "code",
   "execution_count": null,
   "metadata": {
    "scrolled": true
   },
   "outputs": [],
   "source": [
    "preflag.aoflagger_bandpass()"
   ]
  },
  {
   "cell_type": "markdown",
   "metadata": {
    "collapsed": true
   },
   "source": [
    "Now start aoflagger to flag all the datasets automatically."
   ]
  },
  {
   "cell_type": "code",
   "execution_count": null,
   "metadata": {},
   "outputs": [],
   "source": [
    "preflag.aoflagger_flag()"
   ]
  },
  {
   "cell_type": "markdown",
   "metadata": {},
   "source": [
    "Now convert the data to MIRIAD format. Also the CONVERT step takes care of all the different element beams automatically."
   ]
  },
  {
   "cell_type": "code",
   "execution_count": null,
   "metadata": {
    "scrolled": true
   },
   "outputs": [],
   "source": [
    "convert = apercal.convert('/home/{}/apercal/ipython-notebooks/tutorials/cfg/2.cfg'.format(myusername))\n",
    "convert.show()\n",
    "convert.go()"
   ]
  },
  {
   "cell_type": "markdown",
   "metadata": {},
   "source": [
    "We will do the cross calibration now. The pipeline automatically copies the calibrator solutions over to all element beams (`crosscal_transfer_to_target = True`). Even though the cable delay is in place, we still need to solve for delays due to the 5ns sampling (`crosscal_delay = True`)."
   ]
  },
  {
   "cell_type": "code",
   "execution_count": null,
   "metadata": {
    "scrolled": true
   },
   "outputs": [],
   "source": [
    "ccal = apercal.ccal('/home/{}/apercal/ipython-notebooks/tutorials/cfg/2.cfg'.format(myusername))\n",
    "ccal.show()\n",
    "ccal.go()"
   ]
  },
  {
   "cell_type": "markdown",
   "metadata": {},
   "source": [
    "First we reduce all beams with the same standard paramaters."
   ]
  },
  {
   "cell_type": "code",
   "execution_count": 2,
   "metadata": {
    "scrolled": false
   },
   "outputs": [
    {
     "name": "stderr",
     "output_type": "stream",
     "text": [
      "SELFCAL - INFO : ### Configuration file /home/adebahr/apercal/ipython-notebooks/tutorials/cfg/2.cfg successfully read! ###\n"
     ]
    },
    {
     "name": "stdout",
     "output_type": "stream",
     "text": [
      "SELFCAL\n",
      "\tselfcal_image_imsize = 2049\n",
      "\tselfcal_image_cellsize = 4\n",
      "\tselfcal_refant = \n",
      "\tselfcal_splitdata = True\n",
      "\tselfcal_splitdata_chunkbandwidth = 0.02\n",
      "\tselfcal_splitdata_channelbandwidth = 0.001\n",
      "\tselfcal_flagantenna = \n",
      "\tselfcal_flagline = True\n",
      "\tselfcal_flagline_sigma = 0.5\n",
      "\tselfcal_parametric = True\n",
      "\tselfcal_parametric_skymodel_radius = 0.5\n",
      "\tselfcal_parametric_skymodel_cutoff = 0.8\n",
      "\tselfcal_parametric_skymodel_distance = 30\n",
      "\tselfcal_parametric_solint = 5\n",
      "\tselfcal_parametric_uvmin = 0.5\n",
      "\tselfcal_parametric_uvmax = 1000\n",
      "\tselfcal_parametric_amp = False\n",
      "\tselfcal_standard_majorcycle = 3\n",
      "\tselfcal_standard_majorcycle_function = square\n",
      "\tselfcal_standard_minorcycle = 3\n",
      "\tselfcal_standard_minorcycle_function = square\n",
      "\tselfcal_standard_c0 = 10.0\n",
      "\tselfcal_standard_c1 = 5.0\n",
      "\tselfcal_standard_minorcycle0_dr = 5.0\n",
      "\tselfcal_standard_drinit = 50\n",
      "\tselfcal_standard_dr0 = 2.0\n",
      "\tselfcal_standard_nsigma = 45\n",
      "\tselfcal_standard_uvmin = [0.0, 0.0, 0.0]\n",
      "\tselfcal_standard_uvmax = [3000, 3000, 3000]\n",
      "\tselfcal_standard_solint = [3, 1, 0.5]\n",
      "\tselfcal_standard_amp = auto\n",
      "\tselfcal_standard_amp_auto_limit = 1.0\n",
      "\tselfcal_standard_nfbin = 1\n"
     ]
    }
   ],
   "source": [
    "scal = apercal.scal('/home/{}/apercal/ipython-notebooks/tutorials/cfg/2.cfg'.format(myusername))\n",
    "scal.show()"
   ]
  },
  {
   "cell_type": "markdown",
   "metadata": {},
   "source": [
    "You can easily make a list of the available beams for your dataset."
   ]
  },
  {
   "cell_type": "code",
   "execution_count": 3,
   "metadata": {},
   "outputs": [
    {
     "name": "stdout",
     "output_type": "stream",
     "text": [
      "['00', '01', '02', '03', '04', '05', '06', '07', '08', '09', '10', '11', '12', '13', '14', '15', '16', '17', '18', '19', '20', '21', '22', '23', '24', '25', '26', '27', '28', '29', '30', '31', '32', '33', '34', '35', '36']\n"
     ]
    }
   ],
   "source": [
    "import glob\n",
    "from subs import managefiles\n",
    "\n",
    "managefiles.director(scal,'ch', scal.basedir)\n",
    "beams = glob.glob('[0-9][0-9]')\n",
    "print(beams)"
   ]
  },
  {
   "cell_type": "markdown",
   "metadata": {},
   "source": [
    "Now iterate over the list of beams with the SELFCAL module and execute the self calibration."
   ]
  },
  {
   "cell_type": "code",
   "execution_count": null,
   "metadata": {
    "scrolled": true
   },
   "outputs": [
    {
     "name": "stderr",
     "output_type": "stream",
     "text": [
      "SELFCAL - INFO : ########## Starting SELF CALIBRATION ##########\n",
      "SELFCAL - INFO : ### Splitting of target data into individual frequency chunks started ###\n",
      "SELFCAL - INFO : # Applying calibrator solutions to target data before averaging #\n",
      "SELFCAL - INFO : # Calibrator solutions to target data applied #\n",
      "SELFCAL - INFO : # Found 1 subband(s) in target data #\n",
      "SELFCAL - INFO : # Started splitting of subband 0 #\n",
      "SELFCAL - INFO : # Adjusting chunk size to 0.016796875 GHz for regular gridding of the data chunks over frequency #\n",
      "SELFCAL - INFO : # Starting splitting of data chunk 0 for subband 0 #\n",
      "SELFCAL - INFO : # Increasing frequency bin of data chunk 0 to keep bandwidth of chunks equal over the whole bandwidth #\n",
      "SELFCAL - INFO : # New frequency bin is 0.0010498046875 GHz #\n",
      "SELFCAL - INFO : # Splitting of data chunk 0 for subband 0 done #\n",
      "SELFCAL - INFO : # Starting splitting of data chunk 1 for subband 0 #\n",
      "SELFCAL - INFO : # Increasing frequency bin of data chunk 1 to keep bandwidth of chunks equal over the whole bandwidth #\n",
      "SELFCAL - INFO : # New frequency bin is 0.0010498046875 GHz #\n",
      "SELFCAL - INFO : # Splitting of data chunk 1 for subband 0 done #\n",
      "SELFCAL - INFO : # Starting splitting of data chunk 2 for subband 0 #\n",
      "SELFCAL - INFO : # Increasing frequency bin of data chunk 2 to keep bandwidth of chunks equal over the whole bandwidth #\n",
      "SELFCAL - INFO : # New frequency bin is 0.0010498046875 GHz #\n",
      "SELFCAL - INFO : # Splitting of data chunk 2 for subband 0 done #\n",
      "SELFCAL - INFO : # Starting splitting of data chunk 3 for subband 0 #\n",
      "SELFCAL - INFO : # Increasing frequency bin of data chunk 3 to keep bandwidth of chunks equal over the whole bandwidth #\n",
      "SELFCAL - INFO : # New frequency bin is 0.0010498046875 GHz #\n",
      "SELFCAL - INFO : # Splitting of data chunk 3 for subband 0 done #\n",
      "SELFCAL - INFO : # Starting splitting of data chunk 4 for subband 0 #\n",
      "SELFCAL - INFO : # Increasing frequency bin of data chunk 4 to keep bandwidth of chunks equal over the whole bandwidth #\n",
      "SELFCAL - INFO : # New frequency bin is 0.0010498046875 GHz #\n",
      "SELFCAL - INFO : # Splitting of data chunk 4 for subband 0 done #\n",
      "SELFCAL - INFO : # Starting splitting of data chunk 5 for subband 0 #\n",
      "SELFCAL - INFO : # Increasing frequency bin of data chunk 5 to keep bandwidth of chunks equal over the whole bandwidth #\n",
      "SELFCAL - INFO : # New frequency bin is 0.0010498046875 GHz #\n",
      "SELFCAL - INFO : # Splitting of data chunk 5 for subband 0 done #\n",
      "SELFCAL - INFO : # Starting splitting of data chunk 6 for subband 0 #\n",
      "SELFCAL - INFO : # Increasing frequency bin of data chunk 6 to keep bandwidth of chunks equal over the whole bandwidth #\n",
      "SELFCAL - INFO : # New frequency bin is 0.0010498046875 GHz #\n",
      "SELFCAL - INFO : # Splitting of data chunk 6 for subband 0 done #\n",
      "SELFCAL - INFO : # Starting splitting of data chunk 7 for subband 0 #\n",
      "SELFCAL - INFO : # Increasing frequency bin of data chunk 7 to keep bandwidth of chunks equal over the whole bandwidth #\n",
      "SELFCAL - INFO : # New frequency bin is 0.0010498046875 GHz #\n",
      "SELFCAL - INFO : # Splitting of data chunk 7 for subband 0 done #\n",
      "SELFCAL - INFO : # Splitting of data for subband 0 done #\n",
      "SELFCAL - INFO : ### Splitting of target data into individual frequency chunks done ###\n",
      "SELFCAL - INFO : ### Automatic flagging of HI-line/RFI started ###\n",
      "SELFCAL - INFO : # Looking through data chunk 00 #\n",
      "SELFCAL - INFO : # Found high noise in channel(s) 2 5 #\n",
      "SELFCAL - INFO : # Flagged channel(s) 2 5 in data chunk 00 #\n",
      "SELFCAL - INFO : # Looking through data chunk 01 #\n",
      "SELFCAL - INFO : # No high noise found in data chunk 01 #\n",
      "SELFCAL - INFO : # Looking through data chunk 02 #\n",
      "SELFCAL - INFO : # Found high noise in channel(s) 15 #\n",
      "SELFCAL - INFO : # Flagged channel(s) 15 in data chunk 02 #\n",
      "SELFCAL - INFO : # Looking through data chunk 03 #\n",
      "SELFCAL - INFO : # Found high noise in channel(s) 14 #\n",
      "SELFCAL - INFO : # Flagged channel(s) 14 in data chunk 03 #\n",
      "SELFCAL - INFO : # Looking through data chunk 04 #\n",
      "SELFCAL - INFO : # Found high noise in channel(s) 6 #\n",
      "SELFCAL - INFO : # Flagged channel(s) 6 in data chunk 04 #\n",
      "SELFCAL - INFO : # Looking through data chunk 05 #\n",
      "SELFCAL - INFO : # Found high noise in channel(s) 14 #\n",
      "SELFCAL - INFO : # Flagged channel(s) 14 in data chunk 05 #\n",
      "SELFCAL - INFO : # Looking through data chunk 06 #\n",
      "SELFCAL - INFO : # No high noise found in data chunk 06 #\n",
      "SELFCAL - INFO : # Looking through data chunk 07 #\n",
      "SELFCAL - INFO : # Found high noise in channel(s) 14 15 #\n",
      "SELFCAL - INFO : # Flagged channel(s) 14 15 in data chunk 07 #\n",
      "SELFCAL - INFO : ### Automatic flagging of HI-line/RFI done ###\n",
      "SELFCAL - INFO : ### Doing parametric self calibration ###\n",
      "SELFCAL - INFO : # Starting parametric self calibration routine on chunk 00 #\n",
      "WARNING: AstropyDeprecationWarning: Passing a frame as a positional argument is now deprecated, use the frame= keyword argument instead. [astropy.coordinates.sky_coordinate]\n",
      "root - INFO : ### Found 29 source(s) with no counterparts. Setting their spectral index to -0.7 ###\n",
      "root - INFO : ### Found 7 source(s) with 1 counterpart(s) ###\n",
      "root - INFO : ### Found 3 source(s) with 2 counterpart(s) ###\n",
      "root - INFO : ### Found 2 source(s) with 3 counterpart(s) ###\n",
      "root - INFO : ### Found 1 source(s) with 4 counterpart(s) ###\n",
      "root - INFO : ### Using standard WSRT beam for calculating apparent fluxes! ###\n",
      "root - INFO : ### Field seems to have a flux of 0.18184760048698903 Jy ###\n",
      "root - INFO : ### Found 17 source(s) in the model at a cutoff of 80.0 percent with a total flux of 0.14785627776395635 Jy ###\n",
      "root - INFO : ### Wrote source textfile to /data/adebahr/apertif/tutorials/T2/00/selfcal/00/pm/model.txt! ###\n",
      "SELFCAL - INFO : # Creating model from textfile model.txt for chunk 00 #\n",
      "SELFCAL - INFO : # Doing parametric self-calibration on chunk 00 with solution interval 5 min and uvrange limits of 0.5~1000 klambda #\n",
      "SELFCAL - INFO : # Parametric self calibration routine on chunk 00 done! #\n",
      "SELFCAL - INFO : # Starting parametric self calibration routine on chunk 01 #\n",
      "root - INFO : ### Found 29 source(s) with no counterparts. Setting their spectral index to -0.7 ###\n",
      "root - INFO : ### Found 7 source(s) with 1 counterpart(s) ###\n",
      "root - INFO : ### Found 3 source(s) with 2 counterpart(s) ###\n",
      "root - INFO : ### Found 2 source(s) with 3 counterpart(s) ###\n",
      "root - INFO : ### Found 1 source(s) with 4 counterpart(s) ###\n",
      "root - INFO : ### Using standard WSRT beam for calculating apparent fluxes! ###\n",
      "root - INFO : ### Field seems to have a flux of 0.17638217690519978 Jy ###\n",
      "root - INFO : ### Found 17 source(s) in the model at a cutoff of 80.0 percent with a total flux of 0.14341593591077234 Jy ###\n",
      "root - INFO : ### Wrote source textfile to /data/adebahr/apertif/tutorials/T2/00/selfcal/01/pm/model.txt! ###\n",
      "SELFCAL - INFO : # Creating model from textfile model.txt for chunk 01 #\n",
      "SELFCAL - INFO : # Doing parametric self-calibration on chunk 01 with solution interval 5 min and uvrange limits of 0.5~1000 klambda #\n",
      "SELFCAL - INFO : # Parametric self calibration routine on chunk 01 done! #\n",
      "SELFCAL - INFO : # Starting parametric self calibration routine on chunk 02 #\n",
      "root - INFO : ### Found 29 source(s) with no counterparts. Setting their spectral index to -0.7 ###\n",
      "root - INFO : ### Found 7 source(s) with 1 counterpart(s) ###\n",
      "root - INFO : ### Found 3 source(s) with 2 counterpart(s) ###\n",
      "root - INFO : ### Found 2 source(s) with 3 counterpart(s) ###\n",
      "root - INFO : ### Found 1 source(s) with 4 counterpart(s) ###\n",
      "root - INFO : ### Using standard WSRT beam for calculating apparent fluxes! ###\n",
      "root - INFO : ### Field seems to have a flux of 0.17103298621525714 Jy ###\n",
      "root - INFO : ### Found 17 source(s) in the model at a cutoff of 80.0 percent with a total flux of 0.13907243626421512 Jy ###\n",
      "root - INFO : ### Wrote source textfile to /data/adebahr/apertif/tutorials/T2/00/selfcal/02/pm/model.txt! ###\n",
      "SELFCAL - INFO : # Creating model from textfile model.txt for chunk 02 #\n",
      "SELFCAL - INFO : # Doing parametric self-calibration on chunk 02 with solution interval 5 min and uvrange limits of 0.5~1000 klambda #\n",
      "SELFCAL - INFO : # Parametric self calibration routine on chunk 02 done! #\n",
      "SELFCAL - INFO : # Starting parametric self calibration routine on chunk 03 #\n",
      "root - INFO : ### Found 29 source(s) with no counterparts. Setting their spectral index to -0.7 ###\n"
     ]
    },
    {
     "name": "stderr",
     "output_type": "stream",
     "text": [
      "root - INFO : ### Found 7 source(s) with 1 counterpart(s) ###\n",
      "root - INFO : ### Found 3 source(s) with 2 counterpart(s) ###\n",
      "root - INFO : ### Found 2 source(s) with 3 counterpart(s) ###\n",
      "root - INFO : ### Found 1 source(s) with 4 counterpart(s) ###\n",
      "root - INFO : ### Using standard WSRT beam for calculating apparent fluxes! ###\n",
      "root - INFO : ### Field seems to have a flux of 0.16580401224956545 Jy ###\n",
      "root - INFO : ### Found 17 source(s) in the model at a cutoff of 80.0 percent with a total flux of 0.134828950783643 Jy ###\n",
      "root - INFO : ### Wrote source textfile to /data/adebahr/apertif/tutorials/T2/00/selfcal/03/pm/model.txt! ###\n",
      "SELFCAL - INFO : # Creating model from textfile model.txt for chunk 03 #\n",
      "SELFCAL - INFO : # Doing parametric self-calibration on chunk 03 with solution interval 5 min and uvrange limits of 0.5~1000 klambda #\n",
      "SELFCAL - INFO : # Parametric self calibration routine on chunk 03 done! #\n",
      "SELFCAL - INFO : # Starting parametric self calibration routine on chunk 04 #\n",
      "root - INFO : ### Found 29 source(s) with no counterparts. Setting their spectral index to -0.7 ###\n",
      "root - INFO : ### Found 7 source(s) with 1 counterpart(s) ###\n",
      "root - INFO : ### Found 3 source(s) with 2 counterpart(s) ###\n",
      "root - INFO : ### Found 2 source(s) with 3 counterpart(s) ###\n",
      "root - INFO : ### Found 1 source(s) with 4 counterpart(s) ###\n",
      "root - INFO : ### Using standard WSRT beam for calculating apparent fluxes! ###\n",
      "root - INFO : ### Field seems to have a flux of 0.1606987647409512 Jy ###\n",
      "root - INFO : ### Found 17 source(s) in the model at a cutoff of 80.0 percent with a total flux of 0.13068825716377613 Jy ###\n",
      "root - INFO : ### Wrote source textfile to /data/adebahr/apertif/tutorials/T2/00/selfcal/04/pm/model.txt! ###\n",
      "SELFCAL - INFO : # Creating model from textfile model.txt for chunk 04 #\n",
      "SELFCAL - INFO : # Doing parametric self-calibration on chunk 04 with solution interval 5 min and uvrange limits of 0.5~1000 klambda #\n",
      "SELFCAL - INFO : # Parametric self calibration routine on chunk 04 done! #\n",
      "SELFCAL - INFO : # Starting parametric self calibration routine on chunk 05 #\n",
      "root - INFO : ### Found 29 source(s) with no counterparts. Setting their spectral index to -0.7 ###\n",
      "root - INFO : ### Found 7 source(s) with 1 counterpart(s) ###\n",
      "root - INFO : ### Found 3 source(s) with 2 counterpart(s) ###\n",
      "root - INFO : ### Found 2 source(s) with 3 counterpart(s) ###\n",
      "root - INFO : ### Found 1 source(s) with 4 counterpart(s) ###\n",
      "root - INFO : ### Using standard WSRT beam for calculating apparent fluxes! ###\n",
      "root - INFO : ### Field seems to have a flux of 0.15571148383769395 Jy ###\n",
      "root - INFO : ### Found 17 source(s) in the model at a cutoff of 80.0 percent with a total flux of 0.126645612095356 Jy ###\n",
      "root - INFO : ### Wrote source textfile to /data/adebahr/apertif/tutorials/T2/00/selfcal/05/pm/model.txt! ###\n",
      "SELFCAL - INFO : # Creating model from textfile model.txt for chunk 05 #\n",
      "SELFCAL - INFO : # Doing parametric self-calibration on chunk 05 with solution interval 5 min and uvrange limits of 0.5~1000 klambda #\n",
      "SELFCAL - INFO : # Parametric self calibration routine on chunk 05 done! #\n",
      "SELFCAL - INFO : # Starting parametric self calibration routine on chunk 06 #\n",
      "root - INFO : ### Found 29 source(s) with no counterparts. Setting their spectral index to -0.7 ###\n",
      "root - INFO : ### Found 7 source(s) with 1 counterpart(s) ###\n",
      "root - INFO : ### Found 3 source(s) with 2 counterpart(s) ###\n",
      "root - INFO : ### Found 2 source(s) with 3 counterpart(s) ###\n",
      "root - INFO : ### Found 1 source(s) with 4 counterpart(s) ###\n",
      "root - INFO : ### Using standard WSRT beam for calculating apparent fluxes! ###\n",
      "root - INFO : ### Field seems to have a flux of 0.15084538919133633 Jy ###\n",
      "root - INFO : ### Found 17 source(s) in the model at a cutoff of 80.0 percent with a total flux of 0.12270355268391844 Jy ###\n",
      "root - INFO : ### Wrote source textfile to /data/adebahr/apertif/tutorials/T2/00/selfcal/06/pm/model.txt! ###\n",
      "SELFCAL - INFO : # Creating model from textfile model.txt for chunk 06 #\n",
      "SELFCAL - INFO : # Doing parametric self-calibration on chunk 06 with solution interval 5 min and uvrange limits of 0.5~1000 klambda #\n",
      "SELFCAL - INFO : # Parametric self calibration routine on chunk 06 done! #\n",
      "SELFCAL - INFO : # Starting parametric self calibration routine on chunk 07 #\n",
      "root - INFO : ### Found 29 source(s) with no counterparts. Setting their spectral index to -0.7 ###\n",
      "root - INFO : ### Found 7 source(s) with 1 counterpart(s) ###\n",
      "root - INFO : ### Found 3 source(s) with 2 counterpart(s) ###\n",
      "root - INFO : ### Found 2 source(s) with 3 counterpart(s) ###\n",
      "root - INFO : ### Found 1 source(s) with 4 counterpart(s) ###\n",
      "root - INFO : ### Using standard WSRT beam for calculating apparent fluxes! ###\n",
      "root - INFO : ### Field seems to have a flux of 0.14610045039155153 Jy ###\n",
      "root - INFO : ### Found 17 source(s) in the model at a cutoff of 80.0 percent with a total flux of 0.1188619763260523 Jy ###\n",
      "root - INFO : ### Wrote source textfile to /data/adebahr/apertif/tutorials/T2/00/selfcal/07/pm/model.txt! ###\n",
      "SELFCAL - INFO : # Creating model from textfile model.txt for chunk 07 #\n",
      "SELFCAL - INFO : # Doing parametric self-calibration on chunk 07 with solution interval 5 min and uvrange limits of 0.5~1000 klambda #\n",
      "SELFCAL - INFO : # Parametric self calibration routine on chunk 07 done! #\n",
      "SELFCAL - INFO : ### Parametric self calibration done ###\n",
      "SELFCAL - INFO : ### Starting standard self calibration routine ###\n",
      "SELFCAL - INFO : # Starting standard self-calibration routine on frequency chunk 00 #\n",
      "SELFCAL - INFO : # Theoretical noise for chunk 00 is 3.58e-05 Jy/beam #\n",
      "SELFCAL - INFO : # Your theoretical noise threshold will be 45 times the theoretical noise corresponding to 0.001611 Jy/beam #\n",
      "SELFCAL - INFO : # Your dynamic range limits are set to [50.0, 100.0, 200.0] for the major self-calibration cycles #\n",
      "SELFCAL - INFO : # Major self-calibration cycle 0 for frequency chunk 00 started #\n",
      "SELFCAL - INFO : # The minor cycle dynamic range limits for major cycle 0 are [5.0, 12.5, 50.0] #\n",
      "SELFCAL - INFO : # Minor self-calibration cycle 0 for frequency chunk 00 started #\n",
      "SELFCAL - INFO : # Mask threshold for major/minor cycle 0/0 set to 0.0033148009330034255 Jy/beam #\n",
      "SELFCAL - INFO : # Mask threshold set by Dynamic range threshold #\n",
      "SELFCAL - INFO : # Mask with threshold 0.0033148009330034255 Jy/beam created #\n",
      "SELFCAL - INFO : # Clean threshold at major/minor cycle 0/0 was set to 0.0006629601866006851 Jy/beam #\n",
      "SELFCAL - INFO : # Major/minor cycle 0/0 cleaning done #\n",
      "SELFCAL - INFO : # Cleaned image for major/minor cycle 0/0 created #\n",
      "SELFCAL - WARNING : # Chunk 00 does not seem to contain data to image #\n",
      "SELFCAL - INFO : # Doing self-calibration with uvmin=0.0, uvmax=3000, solution interval=3 minutes for major cycle 00 #\n",
      "SELFCAL - INFO : # Major self-calibration cycle 0 for frequency chunk 00 finished #\n",
      "SELFCAL - INFO : # Major self-calibration cycle 1 for frequency chunk 00 started #\n",
      "SELFCAL - INFO : # The minor cycle dynamic range limits for major cycle 1 are [50.0, 62.5, 100.0] #\n",
      "SELFCAL - INFO : # Minor self-calibration cycle 0 for frequency chunk 00 started #\n",
      "SELFCAL - INFO : # Mask threshold for major/minor cycle 1/0 set to 0.0016109999999999998 Jy/beam #\n",
      "SELFCAL - INFO : # Mask threshold set by Theoretical noise threshold #\n",
      "SELFCAL - INFO : # Mask from last minor iteration of last major cycle copied #\n",
      "SELFCAL - INFO : # Clean threshold at major/minor cycle 1/0 was set to 0.00032219999999999997 Jy/beam #\n",
      "SELFCAL - INFO : # Major/minor cycle 1/0 cleaning done #\n",
      "SELFCAL - WARNING : # Chunk 00 does not seem to contain data to image #\n",
      "SELFCAL - INFO : # Doing self-calibration with uvmin=0.0, uvmax=3000, solution interval=1 minutes for major cycle 01 #\n",
      "SELFCAL - WARNING : # Model for self-calibration not found. No further calibration on this chunk possible!\n",
      "SELFCAL - INFO : # Standard self-calibration routine for chunk 00 finished #\n",
      "SELFCAL - INFO : # Starting standard self-calibration routine on frequency chunk 01 #\n",
      "SELFCAL - INFO : # Theoretical noise for chunk 01 is 3.58e-05 Jy/beam #\n",
      "SELFCAL - INFO : # Your theoretical noise threshold will be 45 times the theoretical noise corresponding to 0.001611 Jy/beam #\n"
     ]
    },
    {
     "name": "stderr",
     "output_type": "stream",
     "text": [
      "SELFCAL - INFO : # Your dynamic range limits are set to [50.0, 100.0, 200.0] for the major self-calibration cycles #\n",
      "SELFCAL - INFO : # Major self-calibration cycle 0 for frequency chunk 01 started #\n",
      "SELFCAL - INFO : # The minor cycle dynamic range limits for major cycle 0 are [5.0, 12.5, 50.0] #\n",
      "SELFCAL - INFO : # Minor self-calibration cycle 0 for frequency chunk 01 started #\n",
      "SELFCAL - WARNING : # Chunk 01 does not seem to contain data to image #\n",
      "SELFCAL - INFO : # Doing self-calibration with uvmin=0.0, uvmax=3000, solution interval=3 minutes for major cycle 00 #\n",
      "SELFCAL - WARNING : # Model for self-calibration not found. No further calibration on this chunk possible!\n",
      "SELFCAL - INFO : # Standard self-calibration routine for chunk 01 finished #\n",
      "SELFCAL - INFO : # Starting standard self-calibration routine on frequency chunk 02 #\n",
      "SELFCAL - INFO : # Theoretical noise for chunk 02 is 3.58e-05 Jy/beam #\n",
      "SELFCAL - INFO : # Your theoretical noise threshold will be 45 times the theoretical noise corresponding to 0.001611 Jy/beam #\n",
      "SELFCAL - INFO : # Your dynamic range limits are set to [50.0, 100.0, 200.0] for the major self-calibration cycles #\n",
      "SELFCAL - INFO : # Major self-calibration cycle 0 for frequency chunk 02 started #\n",
      "SELFCAL - INFO : # The minor cycle dynamic range limits for major cycle 0 are [5.0, 12.5, 50.0] #\n",
      "SELFCAL - INFO : # Minor self-calibration cycle 0 for frequency chunk 02 started #\n",
      "SELFCAL - WARNING : # Chunk 02 does not seem to contain data to image #\n",
      "SELFCAL - INFO : # Doing self-calibration with uvmin=0.0, uvmax=3000, solution interval=3 minutes for major cycle 00 #\n",
      "SELFCAL - WARNING : # Model for self-calibration not found. No further calibration on this chunk possible!\n",
      "SELFCAL - INFO : # Standard self-calibration routine for chunk 02 finished #\n",
      "SELFCAL - INFO : # Starting standard self-calibration routine on frequency chunk 03 #\n",
      "SELFCAL - INFO : # Theoretical noise for chunk 03 is 3.58e-05 Jy/beam #\n",
      "SELFCAL - INFO : # Your theoretical noise threshold will be 45 times the theoretical noise corresponding to 0.001611 Jy/beam #\n",
      "SELFCAL - INFO : # Your dynamic range limits are set to [50.0, 100.0, 200.0] for the major self-calibration cycles #\n",
      "SELFCAL - INFO : # Major self-calibration cycle 0 for frequency chunk 03 started #\n",
      "SELFCAL - INFO : # The minor cycle dynamic range limits for major cycle 0 are [5.0, 12.5, 50.0] #\n",
      "SELFCAL - INFO : # Minor self-calibration cycle 0 for frequency chunk 03 started #\n",
      "SELFCAL - INFO : # Mask threshold for major/minor cycle 0/0 set to 0.003597787395119667 Jy/beam #\n",
      "SELFCAL - INFO : # Mask threshold set by Dynamic range threshold #\n",
      "SELFCAL - INFO : # Mask with threshold 0.003597787395119667 Jy/beam created #\n",
      "SELFCAL - INFO : # Clean threshold at major/minor cycle 0/0 was set to 0.0007195574790239334 Jy/beam #\n",
      "SELFCAL - INFO : # Major/minor cycle 0/0 cleaning done #\n",
      "SELFCAL - WARNING : # Chunk 03 does not seem to contain data to image #\n",
      "SELFCAL - INFO : # Doing self-calibration with uvmin=0.0, uvmax=3000, solution interval=3 minutes for major cycle 00 #\n",
      "SELFCAL - WARNING : # Model for self-calibration not found. No further calibration on this chunk possible!\n",
      "SELFCAL - INFO : # Standard self-calibration routine for chunk 03 finished #\n",
      "SELFCAL - INFO : # Starting standard self-calibration routine on frequency chunk 04 #\n",
      "SELFCAL - INFO : # Theoretical noise for chunk 04 is 3.58e-05 Jy/beam #\n",
      "SELFCAL - INFO : # Your theoretical noise threshold will be 45 times the theoretical noise corresponding to 0.001611 Jy/beam #\n",
      "SELFCAL - INFO : # Your dynamic range limits are set to [50.0, 100.0, 200.0] for the major self-calibration cycles #\n",
      "SELFCAL - INFO : # Major self-calibration cycle 0 for frequency chunk 04 started #\n",
      "SELFCAL - INFO : # The minor cycle dynamic range limits for major cycle 0 are [5.0, 12.5, 50.0] #\n",
      "SELFCAL - INFO : # Minor self-calibration cycle 0 for frequency chunk 04 started #\n",
      "SELFCAL - WARNING : # Chunk 04 does not seem to contain data to image #\n",
      "SELFCAL - INFO : # Doing self-calibration with uvmin=0.0, uvmax=3000, solution interval=3 minutes for major cycle 00 #\n",
      "SELFCAL - WARNING : # Model for self-calibration not found. No further calibration on this chunk possible!\n",
      "SELFCAL - INFO : # Standard self-calibration routine for chunk 04 finished #\n",
      "SELFCAL - INFO : # Starting standard self-calibration routine on frequency chunk 05 #\n",
      "SELFCAL - INFO : # Theoretical noise for chunk 05 is 3.58e-05 Jy/beam #\n",
      "SELFCAL - INFO : # Your theoretical noise threshold will be 45 times the theoretical noise corresponding to 0.001611 Jy/beam #\n",
      "SELFCAL - INFO : # Your dynamic range limits are set to [50.0, 100.0, 200.0] for the major self-calibration cycles #\n",
      "SELFCAL - INFO : # Major self-calibration cycle 0 for frequency chunk 05 started #\n",
      "SELFCAL - INFO : # The minor cycle dynamic range limits for major cycle 0 are [5.0, 12.5, 50.0] #\n",
      "SELFCAL - INFO : # Minor self-calibration cycle 0 for frequency chunk 05 started #\n",
      "SELFCAL - WARNING : # Chunk 05 does not seem to contain data to image #\n",
      "SELFCAL - INFO : # Doing self-calibration with uvmin=0.0, uvmax=3000, solution interval=3 minutes for major cycle 00 #\n"
     ]
    }
   ],
   "source": [
    "for beam in beams:\n",
    "    scal.beam = beam\n",
    "    scal.go()"
   ]
  },
  {
   "cell_type": "markdown",
   "metadata": {},
   "source": [
    "You might want to change the paramaters and redo the calibration for individual beams."
   ]
  },
  {
   "cell_type": "markdown",
   "metadata": {},
   "source": [
    "First change the beam directory for this module. Then use `scal.reset()` to remove the files and calibration for this beam."
   ]
  },
  {
   "cell_type": "code",
   "execution_count": null,
   "metadata": {},
   "outputs": [],
   "source": [
    "import subs\n",
    "\n",
    "scal.beam = '01'\n",
    "scal.reset()"
   ]
  },
  {
   "cell_type": "markdown",
   "metadata": {},
   "source": [
    "Then change the parameter you want to change temporarily, for example `scal.parametric = False`."
   ]
  },
  {
   "cell_type": "code",
   "execution_count": null,
   "metadata": {},
   "outputs": [],
   "source": [
    "scal.parametric = False"
   ]
  },
  {
   "cell_type": "markdown",
   "metadata": {},
   "source": [
    "And then start the selfcal for this beam."
   ]
  },
  {
   "cell_type": "code",
   "execution_count": null,
   "metadata": {},
   "outputs": [],
   "source": [
    "scal.go()"
   ]
  },
  {
   "cell_type": "markdown",
   "metadata": {},
   "source": [
    "If you are satisfied with the self-calibration of all your beams, you can export the data to UVFITS format. Since we want the gains applied to the original resolution of the data, we need to run the LINE module."
   ]
  },
  {
   "cell_type": "code",
   "execution_count": null,
   "metadata": {},
   "outputs": [],
   "source": [
    "line = apercal.line('/home/{}/apercal/ipython-notebooks/tutorials/cfg/2.cfg'.format(myusername))\n",
    "line.show()"
   ]
  },
  {
   "cell_type": "markdown",
   "metadata": {},
   "source": [
    "We do not want to subtract the continuum `line_subtract = False` nor do any imaging of the line channels `line_image = False`, but we need to transfer the gains from the continuum `line_transfergains = True` and split the data with the same chunkbandwidth `line_splitdata_chunkbandwidth = 0.02` as we set it for the self-calibration. In addition we want the original channel resolution `line_splitdata_channelbandwidth = 1.2e-05`."
   ]
  },
  {
   "cell_type": "markdown",
   "metadata": {},
   "source": [
    "As we did for the self-calibration, we want to run this step on all beams."
   ]
  },
  {
   "cell_type": "code",
   "execution_count": null,
   "metadata": {
    "scrolled": true
   },
   "outputs": [],
   "source": [
    "import glob\n",
    "from subs import managefiles\n",
    "\n",
    "managefiles.director(scal,'ch', scal.basedir)\n",
    "beams = glob.glob('[0-9][0-9]')\n",
    "\n",
    "for beam in beams:\n",
    "    line.beam = beam\n",
    "    line.go()"
   ]
  },
  {
   "cell_type": "markdown",
   "metadata": {},
   "source": [
    "Now use the TRANSFER module to write the data out into UVFITS format (`transfer_convert_lineuv2uvfits = True`). All gain tables and flags are applied and all frequency chunks of each beam are combined into one file, so that only one UVFITS-file per beam is written. Multiple beams are automatically handled."
   ]
  },
  {
   "cell_type": "code",
   "execution_count": null,
   "metadata": {},
   "outputs": [],
   "source": [
    "transfer = apercal.transfer('/home/{}/apercal/ipython-notebooks/tutorials/cfg/2.cfg'.format(myusername))\n",
    "transfer.show()"
   ]
  },
  {
   "cell_type": "code",
   "execution_count": null,
   "metadata": {},
   "outputs": [],
   "source": [
    "transfer.go()"
   ]
  },
  {
   "cell_type": "markdown",
   "metadata": {},
   "source": [
    "Now we want to create the final continuum images using the same parameters as we used during selfcal. The continuum image just adds another cycle of imaging after the last self-calibration cycle."
   ]
  },
  {
   "cell_type": "code",
   "execution_count": null,
   "metadata": {
    "scrolled": true
   },
   "outputs": [],
   "source": [
    "continuum = apercal.continuum('/home/{}/apercal/ipython-notebooks/tutorials/cfg/2.cfg'.format(myusername))\n",
    "continuum.show()"
   ]
  },
  {
   "cell_type": "markdown",
   "metadata": {},
   "source": [
    "Do the continuum imaging for all beams by iterating with the same loop as we did in the SELFCAL module."
   ]
  },
  {
   "cell_type": "code",
   "execution_count": null,
   "metadata": {
    "scrolled": true
   },
   "outputs": [],
   "source": [
    "import glob\n",
    "from subs import managefiles\n",
    "\n",
    "managefiles.director(continuum,'ch', continuum.basedir)\n",
    "\n",
    "beams = glob.glob('[0-9][0-9]')\n",
    "\n",
    "for beam in beams:\n",
    "    continuum.beam = beam\n",
    "    continuum.go()"
   ]
  },
  {
   "cell_type": "markdown",
   "metadata": {},
   "source": [
    "You can redo the continuum imaging for individual beams in the same way as for the selfcal module above. This holds for all modules where you use a `glob` command to create a list of beams."
   ]
  },
  {
   "cell_type": "markdown",
   "metadata": {},
   "source": [
    "In the end we want to mosaic all images together using the MOSAIC module."
   ]
  },
  {
   "cell_type": "code",
   "execution_count": null,
   "metadata": {},
   "outputs": [],
   "source": [
    "mosaic = apercal.mosaic('/home/{}/apercal/ipython-notebooks/tutorials/cfg/2.cfg'.format(myusername))\n",
    "mosaic.show()"
   ]
  },
  {
   "cell_type": "markdown",
   "metadata": {},
   "source": [
    "This tutorial only does a mosaic of the final continuum images (parameter `mosaic_continuum = True`) and mosaics of the individual continuum frequency chunks (parameter `mosaic_continuum_chunks = True`). Mosaics of the line cubes (parameter `mosaic_line`) and Q- and U- images (paramater `mosaic_polarisation`) can also be produced in a later release."
   ]
  },
  {
   "cell_type": "code",
   "execution_count": null,
   "metadata": {
    "scrolled": false
   },
   "outputs": [],
   "source": [
    "mosaic.go()"
   ]
  },
  {
   "cell_type": "code",
   "execution_count": null,
   "metadata": {},
   "outputs": [],
   "source": []
  }
 ],
 "metadata": {
  "kernelspec": {
   "display_name": "Python 2",
   "language": "python",
   "name": "python2"
  },
  "language_info": {
   "codemirror_mode": {
    "name": "ipython",
    "version": 2
   },
   "file_extension": ".py",
   "mimetype": "text/x-python",
   "name": "python",
   "nbconvert_exporter": "python",
   "pygments_lexer": "ipython2",
   "version": "2.7.12"
  }
 },
 "nbformat": 4,
 "nbformat_minor": 1
}
