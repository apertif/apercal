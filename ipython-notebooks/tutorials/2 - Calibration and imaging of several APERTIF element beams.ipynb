{
 "cells": [
  {
   "cell_type": "markdown",
   "metadata": {
    "collapsed": true
   },
   "source": [
    "# Apercal tutorial 2: Calibration and imaging of several APERTIF element beams"
   ]
  },
  {
   "cell_type": "markdown",
   "metadata": {},
   "source": [
    "After we have successfully calibrated the central element beam of an APERTIF observation we now also want to calibrate and image several beams. For this tutorial we take a dataset from our reference field, the Lockman Hole. Let's start the pipeline again as we did in the last tutorial. Remember to change all the directory paths to your own ones."
   ]
  },
  {
   "cell_type": "code",
   "execution_count": null,
   "metadata": {},
   "outputs": [],
   "source": [
    "import os, sys"
   ]
  },
  {
   "cell_type": "code",
   "execution_count": null,
   "metadata": {},
   "outputs": [],
   "source": [
    "here = os.path.abspath(os.curdir)\n",
    "root = os.path.abspath(here + '/../..')\n",
    "sys.path.append(root)\n",
    "config = here + '/cfg/2.cfg'"
   ]
  },
  {
   "cell_type": "code",
   "execution_count": null,
   "metadata": {},
   "outputs": [],
   "source": [
    "%config IPCompleter.greedy=True\n",
    "%matplotlib notebook\n",
    "import libs.lib as lib\n",
    "lib.setup_logger('info', logfile=here + '/2.log')\n",
    "\n",
    "import apercal"
   ]
  },
  {
   "cell_type": "markdown",
   "metadata": {},
   "source": [
    "Load the config file for the tutorial and look at it."
   ]
  },
  {
   "cell_type": "code",
   "execution_count": null,
   "metadata": {
    "scrolled": true
   },
   "outputs": [],
   "source": [
    "prepare = apercal.prepare(config)\n",
    "prepare.show(showall=True)"
   ]
  },
  {
   "cell_type": "markdown",
   "metadata": {},
   "source": [
    "We have to set `prepare_obsmode = multi_element` since these observations were carried out with the full bandwidth in multi-element mode. The prepare step will copy all 37 beams. You might want to stop the step after the third or fourth copied target dataset. The full processing of all beams would need around a day. The pipeline will still work with fewer copied beams. <br>\n",
    "Just make sure that all datasets in your directory are correct and not corrupted (most likely you will have to remove the last copied dataset manually since it wasn't copied completely)."
   ]
  },
  {
   "cell_type": "code",
   "execution_count": null,
   "metadata": {
    "scrolled": true
   },
   "outputs": [],
   "source": [
    "prepare.go()"
   ]
  },
  {
   "cell_type": "markdown",
   "metadata": {},
   "source": [
    "As before we have to execute the individual preflag substeps manually."
   ]
  },
  {
   "cell_type": "code",
   "execution_count": null,
   "metadata": {
    "scrolled": true
   },
   "outputs": [],
   "source": [
    "preflag = apercal.preflag(config)\n",
    "\n",
    "nchannel = 11008\n",
    "\n",
    "a = range(0, nchannel, 64) # the subband edges\n",
    "b = range(1, nchannel, 64)\n",
    "c = range(63, nchannel, 64)\n",
    "d = range(16, nchannel, 64) # the two ghosts\n",
    "e = range(48, nchannel, 64)\n",
    "l = a + b + c + d + e\n",
    "preflag.preflag_manualflag_channel = ';'.join(str(ch) for ch in l)\n",
    "\n",
    "preflag.show()"
   ]
  },
  {
   "cell_type": "markdown",
   "metadata": {},
   "source": [
    "We want to flag auto-correlations and shadowed antennas. The preflag step automatically recognises the other beams and flags them as well using the same pattern."
   ]
  },
  {
   "cell_type": "code",
   "execution_count": null,
   "metadata": {},
   "outputs": [],
   "source": [
    "preflag.manualflag()"
   ]
  },
  {
   "cell_type": "markdown",
   "metadata": {},
   "source": [
    "First derive the bandpass for the flagging. This is automatically applied to all target element beams."
   ]
  },
  {
   "cell_type": "code",
   "execution_count": null,
   "metadata": {
    "scrolled": true
   },
   "outputs": [],
   "source": [
    "preflag.aoflagger_bandpass()"
   ]
  },
  {
   "cell_type": "markdown",
   "metadata": {
    "collapsed": true
   },
   "source": [
    "Now start aoflagger to flag all the datasets automatically."
   ]
  },
  {
   "cell_type": "code",
   "execution_count": null,
   "metadata": {},
   "outputs": [],
   "source": [
    "preflag.aoflagger_flag()"
   ]
  },
  {
   "cell_type": "markdown",
   "metadata": {},
   "source": [
    "Now convert the data to MIRIAD format. Also the CONVERT step takes care of all the different element beams automatically."
   ]
  },
  {
   "cell_type": "code",
   "execution_count": null,
   "metadata": {
    "scrolled": true
   },
   "outputs": [],
   "source": [
    "convert = apercal.convert(config)\n",
    "convert.show()\n",
    "convert.go()"
   ]
  },
  {
   "cell_type": "markdown",
   "metadata": {},
   "source": [
    "We will do the cross calibration now. The pipeline automatically copies the calibrator solutions over to all element beams (`crosscal_transfer_to_target = True`). Even though the cable delay is in place, we still need to solve for delays due to the 5ns sampling (`crosscal_delay = True`)."
   ]
  },
  {
   "cell_type": "code",
   "execution_count": null,
   "metadata": {
    "scrolled": true
   },
   "outputs": [],
   "source": [
    "ccal = apercal.ccal(config)\n",
    "ccal.show()\n",
    "ccal.go()"
   ]
  },
  {
   "cell_type": "markdown",
   "metadata": {},
   "source": [
    "First we reduce all beams with the same standard paramaters."
   ]
  },
  {
   "cell_type": "code",
   "execution_count": null,
   "metadata": {
    "scrolled": false
   },
   "outputs": [],
   "source": [
    "scal = apercal.scal(config)\n",
    "scal.show()"
   ]
  },
  {
   "cell_type": "markdown",
   "metadata": {},
   "source": [
    "You can easily make a list of the available beams for your dataset."
   ]
  },
  {
   "cell_type": "code",
   "execution_count": null,
   "metadata": {},
   "outputs": [],
   "source": [
    "import glob\n",
    "from subs import managefiles\n",
    "\n",
    "managefiles.director(scal,'ch', scal.basedir)\n",
    "beams = glob.glob('[0-9][0-9]')\n",
    "print(beams)"
   ]
  },
  {
   "cell_type": "markdown",
   "metadata": {},
   "source": [
    "Now iterate over the list of beams with the SELFCAL module and execute the self calibration."
   ]
  },
  {
   "cell_type": "code",
   "execution_count": null,
   "metadata": {
    "scrolled": true
   },
   "outputs": [],
   "source": [
    "for beam in beams:\n",
    "    scal.beam = beam\n",
    "    scal.go()"
   ]
  },
  {
   "cell_type": "markdown",
   "metadata": {},
   "source": [
    "You might want to change the paramaters and redo the calibration for individual beams."
   ]
  },
  {
   "cell_type": "markdown",
   "metadata": {},
   "source": [
    "First change the beam directory for this module. Then use `scal.reset()` to remove the files and calibration for this beam."
   ]
  },
  {
   "cell_type": "code",
   "execution_count": null,
   "metadata": {},
   "outputs": [],
   "source": [
    "import subs\n",
    "\n",
    "scal.beam = '01'\n",
    "scal.reset()"
   ]
  },
  {
   "cell_type": "markdown",
   "metadata": {},
   "source": [
    "Then change the parameter you want to change temporarily, for example `scal.parametric = False`."
   ]
  },
  {
   "cell_type": "code",
   "execution_count": null,
   "metadata": {},
   "outputs": [],
   "source": [
    "scal.parametric = False"
   ]
  },
  {
   "cell_type": "markdown",
   "metadata": {},
   "source": [
    "And then start the selfcal for this beam."
   ]
  },
  {
   "cell_type": "code",
   "execution_count": null,
   "metadata": {},
   "outputs": [],
   "source": [
    "scal.go()"
   ]
  },
  {
   "cell_type": "markdown",
   "metadata": {},
   "source": [
    "If you are satisfied with the self-calibration of all your beams, you can export the data to UVFITS format. Since we want the gains applied to the original resolution of the data, we need to run the LINE module."
   ]
  },
  {
   "cell_type": "code",
   "execution_count": null,
   "metadata": {},
   "outputs": [],
   "source": [
    "line = apercal.line(config)\n",
    "line.show()"
   ]
  },
  {
   "cell_type": "markdown",
   "metadata": {},
   "source": [
    "We do not want to subtract the continuum `line_subtract = False` nor do any imaging of the line channels `line_image = False`, but we need to transfer the gains from the continuum `line_transfergains = True` and split the data with the same chunkbandwidth `line_splitdata_chunkbandwidth = 0.02` as we set it for the self-calibration. In addition we want the original channel resolution `line_splitdata_channelbandwidth = 1.2e-05`."
   ]
  },
  {
   "cell_type": "markdown",
   "metadata": {},
   "source": [
    "As we did for the self-calibration, we want to run this step on all beams."
   ]
  },
  {
   "cell_type": "code",
   "execution_count": null,
   "metadata": {
    "scrolled": true
   },
   "outputs": [],
   "source": [
    "import glob\n",
    "from subs import managefiles\n",
    "\n",
    "managefiles.director(scal,'ch', scal.basedir)\n",
    "beams = glob.glob('[0-9][0-9]')\n",
    "\n",
    "for beam in beams:\n",
    "    line.beam = beam\n",
    "    line.go()"
   ]
  },
  {
   "cell_type": "markdown",
   "metadata": {},
   "source": [
    "Now use the TRANSFER module to write the data out into UVFITS format (`transfer_convert_lineuv2uvfits = True`). All gain tables and flags are applied and all frequency chunks of each beam are combined into one file, so that only one UVFITS-file per beam is written. Multiple beams are automatically handled."
   ]
  },
  {
   "cell_type": "code",
   "execution_count": null,
   "metadata": {},
   "outputs": [],
   "source": [
    "transfer = apercal.transfer(config)\n",
    "transfer.show()"
   ]
  },
  {
   "cell_type": "code",
   "execution_count": null,
   "metadata": {},
   "outputs": [],
   "source": [
    "transfer.go()"
   ]
  },
  {
   "cell_type": "markdown",
   "metadata": {},
   "source": [
    "Now we want to create the final continuum images using the same parameters as we used during selfcal. The continuum image just adds another cycle of imaging after the last self-calibration cycle."
   ]
  },
  {
   "cell_type": "code",
   "execution_count": null,
   "metadata": {
    "scrolled": true
   },
   "outputs": [],
   "source": [
    "continuum = apercal.continuum(config)\n",
    "continuum.show()"
   ]
  },
  {
   "cell_type": "markdown",
   "metadata": {},
   "source": [
    "Do the continuum imaging for all beams by iterating with the same loop as we did in the SELFCAL module."
   ]
  },
  {
   "cell_type": "code",
   "execution_count": null,
   "metadata": {
    "scrolled": true
   },
   "outputs": [],
   "source": [
    "import glob\n",
    "from subs import managefiles\n",
    "\n",
    "managefiles.director(continuum,'ch', continuum.basedir)\n",
    "\n",
    "beams = glob.glob('[0-9][0-9]')\n",
    "\n",
    "for beam in beams:\n",
    "    continuum.beam = beam\n",
    "    continuum.go()"
   ]
  },
  {
   "cell_type": "markdown",
   "metadata": {},
   "source": [
    "You can redo the continuum imaging for individual beams in the same way as for the selfcal module above. This holds for all modules where you use a `glob` command to create a list of beams."
   ]
  },
  {
   "cell_type": "markdown",
   "metadata": {},
   "source": [
    "In the end we want to mosaic all images together using the MOSAIC module."
   ]
  },
  {
   "cell_type": "code",
   "execution_count": null,
   "metadata": {},
   "outputs": [],
   "source": [
    "mosaic = apercal.mosaic(config)\n",
    "mosaic.show()"
   ]
  },
  {
   "cell_type": "markdown",
   "metadata": {},
   "source": [
    "This tutorial only does a mosaic of the final continuum images (parameter `mosaic_continuum = True`) and mosaics of the individual continuum frequency chunks (parameter `mosaic_continuum_chunks = True`). Mosaics of the line cubes (parameter `mosaic_line`) and Q- and U- images (paramater `mosaic_polarisation`) can also be produced in a later release."
   ]
  },
  {
   "cell_type": "code",
   "execution_count": null,
   "metadata": {
    "scrolled": false
   },
   "outputs": [],
   "source": [
    "mosaic.go()"
   ]
  }
 ],
 "metadata": {
  "kernelspec": {
   "display_name": "Python 2",
   "language": "python",
   "name": "python2"
  },
  "language_info": {
   "codemirror_mode": {
    "name": "ipython",
    "version": 2
   },
   "file_extension": ".py",
   "mimetype": "text/x-python",
   "name": "python",
   "nbconvert_exporter": "python",
   "pygments_lexer": "ipython2",
   "version": "2.7.15rc1"
  }
 },
 "nbformat": 4,
 "nbformat_minor": 1
}
