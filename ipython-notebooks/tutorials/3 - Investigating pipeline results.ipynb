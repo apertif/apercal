{
 "cells": [
  {
   "cell_type": "markdown",
   "metadata": {},
   "source": [
    "# Apercal tutorial 3: Investigating pipeline results"
   ]
  },
  {
   "cell_type": "markdown",
   "metadata": {},
   "source": [
    "In this tutorial we want to investigate the data reduction of the 2nd tutorial."
   ]
  },
  {
   "cell_type": "code",
   "execution_count": 1,
   "metadata": {},
   "outputs": [
    {
     "name": "stderr",
     "output_type": "stream",
     "text": [
      "/home/apercal/pipeline/local/lib/python2.7/site-packages/pyfits/__init__.py:22: PyFITSDeprecationWarning: PyFITS is deprecated, please use astropy.io.fits\n",
      "  PyFITSDeprecationWarning)  # noqa\n",
      "root - INFO : Logging started!\n",
      "root - INFO : To see the log in a bash window use the following command:\n",
      "root - INFO : tail -n +1 -f /home/adebahr/apercal/ipython-notebooks/tutorials/logs/3.log\n"
     ]
    },
    {
     "name": "stdout",
     "output_type": "stream",
     "text": [
      "Setup logger with lib.setup_logger()\n"
     ]
    }
   ],
   "source": [
    "import os;\n",
    "myusername = os.environ['USER']\n",
    "if not ('PYTHONPATH' in os.environ and\n",
    "        '/home/' + myusername + '/apercal' in os.environ['PYTHONPATH']):\n",
    "      print(\"WARNING: your apercal directory should be in the $PYTHONPATH\")\n",
    "\n",
    "%config IPCompleter.greedy=True\n",
    "%matplotlib notebook\n",
    "import libs.lib as lib\n",
    "lib.setup_logger('info', logfile='/home/{}/apercal/ipython-notebooks/tutorials/logs/3.log'.format(myusername))\n",
    "\n",
    "import apercal"
   ]
  },
  {
   "cell_type": "markdown",
   "metadata": {},
   "source": [
    "The mosaic module gave us some warnings during its run. Let's have a look at the summary of the stacked continuum mosaic. The last two lines are just for generating a table with an improved format. The summary also works without them."
   ]
  },
  {
   "cell_type": "code",
   "execution_count": 2,
   "metadata": {},
   "outputs": [
    {
     "name": "stderr",
     "output_type": "stream",
     "text": [
      "MOSAIC - INFO : ### Configuration file /home/adebahr/apercal/ipython-notebooks/tutorials/cfg/3.cfg successfully read! ###\n"
     ]
    }
   ],
   "source": [
    "mosaic = apercal.mosaic('/home/{}/apercal/ipython-notebooks/tutorials/cfg/3.cfg'.format(myusername))"
   ]
  },
  {
   "cell_type": "code",
   "execution_count": 3,
   "metadata": {},
   "outputs": [
    {
     "data": {
      "text/html": [
       "<style  type=\"text/css\" >\n",
       "    #T_4bcd1abe_8f26_11e8_8b8a_001b21bda704row0_col0 {\n",
       "            text-align:  center;\n",
       "        }    #T_4bcd1abe_8f26_11e8_8b8a_001b21bda704row0_col1 {\n",
       "            text-align:  center;\n",
       "        }    #T_4bcd1abe_8f26_11e8_8b8a_001b21bda704row0_col2 {\n",
       "            text-align:  center;\n",
       "        }    #T_4bcd1abe_8f26_11e8_8b8a_001b21bda704row1_col0 {\n",
       "            text-align:  center;\n",
       "        }    #T_4bcd1abe_8f26_11e8_8b8a_001b21bda704row1_col1 {\n",
       "            text-align:  center;\n",
       "        }    #T_4bcd1abe_8f26_11e8_8b8a_001b21bda704row1_col2 {\n",
       "            text-align:  center;\n",
       "        }    #T_4bcd1abe_8f26_11e8_8b8a_001b21bda704row2_col0 {\n",
       "            text-align:  center;\n",
       "        }    #T_4bcd1abe_8f26_11e8_8b8a_001b21bda704row2_col1 {\n",
       "            text-align:  center;\n",
       "        }    #T_4bcd1abe_8f26_11e8_8b8a_001b21bda704row2_col2 {\n",
       "            text-align:  center;\n",
       "        }    #T_4bcd1abe_8f26_11e8_8b8a_001b21bda704row3_col0 {\n",
       "            text-align:  center;\n",
       "        }    #T_4bcd1abe_8f26_11e8_8b8a_001b21bda704row3_col1 {\n",
       "            text-align:  center;\n",
       "        }    #T_4bcd1abe_8f26_11e8_8b8a_001b21bda704row3_col2 {\n",
       "            text-align:  center;\n",
       "        }    #T_4bcd1abe_8f26_11e8_8b8a_001b21bda704row4_col0 {\n",
       "            text-align:  center;\n",
       "        }    #T_4bcd1abe_8f26_11e8_8b8a_001b21bda704row4_col1 {\n",
       "            text-align:  center;\n",
       "        }    #T_4bcd1abe_8f26_11e8_8b8a_001b21bda704row4_col2 {\n",
       "            text-align:  center;\n",
       "        }    #T_4bcd1abe_8f26_11e8_8b8a_001b21bda704row5_col0 {\n",
       "            text-align:  center;\n",
       "        }    #T_4bcd1abe_8f26_11e8_8b8a_001b21bda704row5_col1 {\n",
       "            text-align:  center;\n",
       "        }    #T_4bcd1abe_8f26_11e8_8b8a_001b21bda704row5_col2 {\n",
       "            text-align:  center;\n",
       "        }    #T_4bcd1abe_8f26_11e8_8b8a_001b21bda704row6_col0 {\n",
       "            text-align:  center;\n",
       "        }    #T_4bcd1abe_8f26_11e8_8b8a_001b21bda704row6_col1 {\n",
       "            text-align:  center;\n",
       "        }    #T_4bcd1abe_8f26_11e8_8b8a_001b21bda704row6_col2 {\n",
       "            text-align:  center;\n",
       "        }    #T_4bcd1abe_8f26_11e8_8b8a_001b21bda704row7_col0 {\n",
       "            text-align:  center;\n",
       "        }    #T_4bcd1abe_8f26_11e8_8b8a_001b21bda704row7_col1 {\n",
       "            text-align:  center;\n",
       "        }    #T_4bcd1abe_8f26_11e8_8b8a_001b21bda704row7_col2 {\n",
       "            text-align:  center;\n",
       "        }    #T_4bcd1abe_8f26_11e8_8b8a_001b21bda704row8_col0 {\n",
       "            text-align:  center;\n",
       "        }    #T_4bcd1abe_8f26_11e8_8b8a_001b21bda704row8_col1 {\n",
       "            text-align:  center;\n",
       "        }    #T_4bcd1abe_8f26_11e8_8b8a_001b21bda704row8_col2 {\n",
       "            text-align:  center;\n",
       "        }    #T_4bcd1abe_8f26_11e8_8b8a_001b21bda704row9_col0 {\n",
       "            text-align:  center;\n",
       "        }    #T_4bcd1abe_8f26_11e8_8b8a_001b21bda704row9_col1 {\n",
       "            text-align:  center;\n",
       "        }    #T_4bcd1abe_8f26_11e8_8b8a_001b21bda704row9_col2 {\n",
       "            text-align:  center;\n",
       "        }    #T_4bcd1abe_8f26_11e8_8b8a_001b21bda704row10_col0 {\n",
       "            text-align:  center;\n",
       "        }    #T_4bcd1abe_8f26_11e8_8b8a_001b21bda704row10_col1 {\n",
       "            text-align:  center;\n",
       "        }    #T_4bcd1abe_8f26_11e8_8b8a_001b21bda704row10_col2 {\n",
       "            text-align:  center;\n",
       "        }    #T_4bcd1abe_8f26_11e8_8b8a_001b21bda704row11_col0 {\n",
       "            text-align:  center;\n",
       "        }    #T_4bcd1abe_8f26_11e8_8b8a_001b21bda704row11_col1 {\n",
       "            text-align:  center;\n",
       "        }    #T_4bcd1abe_8f26_11e8_8b8a_001b21bda704row11_col2 {\n",
       "            text-align:  center;\n",
       "        }    #T_4bcd1abe_8f26_11e8_8b8a_001b21bda704row12_col0 {\n",
       "            text-align:  center;\n",
       "        }    #T_4bcd1abe_8f26_11e8_8b8a_001b21bda704row12_col1 {\n",
       "            text-align:  center;\n",
       "        }    #T_4bcd1abe_8f26_11e8_8b8a_001b21bda704row12_col2 {\n",
       "            text-align:  center;\n",
       "        }    #T_4bcd1abe_8f26_11e8_8b8a_001b21bda704row13_col0 {\n",
       "            text-align:  center;\n",
       "        }    #T_4bcd1abe_8f26_11e8_8b8a_001b21bda704row13_col1 {\n",
       "            text-align:  center;\n",
       "        }    #T_4bcd1abe_8f26_11e8_8b8a_001b21bda704row13_col2 {\n",
       "            text-align:  center;\n",
       "        }    #T_4bcd1abe_8f26_11e8_8b8a_001b21bda704row14_col0 {\n",
       "            text-align:  center;\n",
       "        }    #T_4bcd1abe_8f26_11e8_8b8a_001b21bda704row14_col1 {\n",
       "            text-align:  center;\n",
       "        }    #T_4bcd1abe_8f26_11e8_8b8a_001b21bda704row14_col2 {\n",
       "            text-align:  center;\n",
       "        }    #T_4bcd1abe_8f26_11e8_8b8a_001b21bda704row15_col0 {\n",
       "            text-align:  center;\n",
       "        }    #T_4bcd1abe_8f26_11e8_8b8a_001b21bda704row15_col1 {\n",
       "            text-align:  center;\n",
       "        }    #T_4bcd1abe_8f26_11e8_8b8a_001b21bda704row15_col2 {\n",
       "            text-align:  center;\n",
       "        }    #T_4bcd1abe_8f26_11e8_8b8a_001b21bda704row16_col0 {\n",
       "            text-align:  center;\n",
       "        }    #T_4bcd1abe_8f26_11e8_8b8a_001b21bda704row16_col1 {\n",
       "            text-align:  center;\n",
       "        }    #T_4bcd1abe_8f26_11e8_8b8a_001b21bda704row16_col2 {\n",
       "            text-align:  center;\n",
       "        }    #T_4bcd1abe_8f26_11e8_8b8a_001b21bda704row17_col0 {\n",
       "            text-align:  center;\n",
       "        }    #T_4bcd1abe_8f26_11e8_8b8a_001b21bda704row17_col1 {\n",
       "            text-align:  center;\n",
       "        }    #T_4bcd1abe_8f26_11e8_8b8a_001b21bda704row17_col2 {\n",
       "            text-align:  center;\n",
       "        }    #T_4bcd1abe_8f26_11e8_8b8a_001b21bda704row18_col0 {\n",
       "            text-align:  center;\n",
       "        }    #T_4bcd1abe_8f26_11e8_8b8a_001b21bda704row18_col1 {\n",
       "            text-align:  center;\n",
       "        }    #T_4bcd1abe_8f26_11e8_8b8a_001b21bda704row18_col2 {\n",
       "            text-align:  center;\n",
       "        }    #T_4bcd1abe_8f26_11e8_8b8a_001b21bda704row19_col0 {\n",
       "            text-align:  center;\n",
       "        }    #T_4bcd1abe_8f26_11e8_8b8a_001b21bda704row19_col1 {\n",
       "            text-align:  center;\n",
       "        }    #T_4bcd1abe_8f26_11e8_8b8a_001b21bda704row19_col2 {\n",
       "            text-align:  center;\n",
       "        }    #T_4bcd1abe_8f26_11e8_8b8a_001b21bda704row20_col0 {\n",
       "            text-align:  center;\n",
       "        }    #T_4bcd1abe_8f26_11e8_8b8a_001b21bda704row20_col1 {\n",
       "            text-align:  center;\n",
       "        }    #T_4bcd1abe_8f26_11e8_8b8a_001b21bda704row20_col2 {\n",
       "            text-align:  center;\n",
       "        }    #T_4bcd1abe_8f26_11e8_8b8a_001b21bda704row21_col0 {\n",
       "            text-align:  center;\n",
       "        }    #T_4bcd1abe_8f26_11e8_8b8a_001b21bda704row21_col1 {\n",
       "            text-align:  center;\n",
       "        }    #T_4bcd1abe_8f26_11e8_8b8a_001b21bda704row21_col2 {\n",
       "            text-align:  center;\n",
       "        }    #T_4bcd1abe_8f26_11e8_8b8a_001b21bda704row22_col0 {\n",
       "            text-align:  center;\n",
       "        }    #T_4bcd1abe_8f26_11e8_8b8a_001b21bda704row22_col1 {\n",
       "            text-align:  center;\n",
       "        }    #T_4bcd1abe_8f26_11e8_8b8a_001b21bda704row22_col2 {\n",
       "            text-align:  center;\n",
       "        }    #T_4bcd1abe_8f26_11e8_8b8a_001b21bda704row23_col0 {\n",
       "            text-align:  center;\n",
       "        }    #T_4bcd1abe_8f26_11e8_8b8a_001b21bda704row23_col1 {\n",
       "            text-align:  center;\n",
       "        }    #T_4bcd1abe_8f26_11e8_8b8a_001b21bda704row23_col2 {\n",
       "            text-align:  center;\n",
       "        }    #T_4bcd1abe_8f26_11e8_8b8a_001b21bda704row24_col0 {\n",
       "            text-align:  center;\n",
       "        }    #T_4bcd1abe_8f26_11e8_8b8a_001b21bda704row24_col1 {\n",
       "            text-align:  center;\n",
       "        }    #T_4bcd1abe_8f26_11e8_8b8a_001b21bda704row24_col2 {\n",
       "            text-align:  center;\n",
       "        }    #T_4bcd1abe_8f26_11e8_8b8a_001b21bda704row25_col0 {\n",
       "            text-align:  center;\n",
       "        }    #T_4bcd1abe_8f26_11e8_8b8a_001b21bda704row25_col1 {\n",
       "            text-align:  center;\n",
       "        }    #T_4bcd1abe_8f26_11e8_8b8a_001b21bda704row25_col2 {\n",
       "            text-align:  center;\n",
       "        }    #T_4bcd1abe_8f26_11e8_8b8a_001b21bda704row26_col0 {\n",
       "            text-align:  center;\n",
       "        }    #T_4bcd1abe_8f26_11e8_8b8a_001b21bda704row26_col1 {\n",
       "            text-align:  center;\n",
       "        }    #T_4bcd1abe_8f26_11e8_8b8a_001b21bda704row26_col2 {\n",
       "            text-align:  center;\n",
       "        }    #T_4bcd1abe_8f26_11e8_8b8a_001b21bda704row27_col0 {\n",
       "            text-align:  center;\n",
       "        }    #T_4bcd1abe_8f26_11e8_8b8a_001b21bda704row27_col1 {\n",
       "            text-align:  center;\n",
       "        }    #T_4bcd1abe_8f26_11e8_8b8a_001b21bda704row27_col2 {\n",
       "            text-align:  center;\n",
       "        }    #T_4bcd1abe_8f26_11e8_8b8a_001b21bda704row28_col0 {\n",
       "            text-align:  center;\n",
       "        }    #T_4bcd1abe_8f26_11e8_8b8a_001b21bda704row28_col1 {\n",
       "            text-align:  center;\n",
       "        }    #T_4bcd1abe_8f26_11e8_8b8a_001b21bda704row28_col2 {\n",
       "            text-align:  center;\n",
       "        }    #T_4bcd1abe_8f26_11e8_8b8a_001b21bda704row29_col0 {\n",
       "            text-align:  center;\n",
       "        }    #T_4bcd1abe_8f26_11e8_8b8a_001b21bda704row29_col1 {\n",
       "            text-align:  center;\n",
       "        }    #T_4bcd1abe_8f26_11e8_8b8a_001b21bda704row29_col2 {\n",
       "            text-align:  center;\n",
       "        }    #T_4bcd1abe_8f26_11e8_8b8a_001b21bda704row30_col0 {\n",
       "            text-align:  center;\n",
       "        }    #T_4bcd1abe_8f26_11e8_8b8a_001b21bda704row30_col1 {\n",
       "            text-align:  center;\n",
       "        }    #T_4bcd1abe_8f26_11e8_8b8a_001b21bda704row30_col2 {\n",
       "            text-align:  center;\n",
       "        }    #T_4bcd1abe_8f26_11e8_8b8a_001b21bda704row31_col0 {\n",
       "            text-align:  center;\n",
       "        }    #T_4bcd1abe_8f26_11e8_8b8a_001b21bda704row31_col1 {\n",
       "            text-align:  center;\n",
       "        }    #T_4bcd1abe_8f26_11e8_8b8a_001b21bda704row31_col2 {\n",
       "            text-align:  center;\n",
       "        }    #T_4bcd1abe_8f26_11e8_8b8a_001b21bda704row32_col0 {\n",
       "            text-align:  center;\n",
       "        }    #T_4bcd1abe_8f26_11e8_8b8a_001b21bda704row32_col1 {\n",
       "            text-align:  center;\n",
       "        }    #T_4bcd1abe_8f26_11e8_8b8a_001b21bda704row32_col2 {\n",
       "            text-align:  center;\n",
       "        }    #T_4bcd1abe_8f26_11e8_8b8a_001b21bda704row33_col0 {\n",
       "            text-align:  center;\n",
       "        }    #T_4bcd1abe_8f26_11e8_8b8a_001b21bda704row33_col1 {\n",
       "            text-align:  center;\n",
       "        }    #T_4bcd1abe_8f26_11e8_8b8a_001b21bda704row33_col2 {\n",
       "            text-align:  center;\n",
       "        }    #T_4bcd1abe_8f26_11e8_8b8a_001b21bda704row34_col0 {\n",
       "            text-align:  center;\n",
       "        }    #T_4bcd1abe_8f26_11e8_8b8a_001b21bda704row34_col1 {\n",
       "            text-align:  center;\n",
       "        }    #T_4bcd1abe_8f26_11e8_8b8a_001b21bda704row34_col2 {\n",
       "            text-align:  center;\n",
       "        }    #T_4bcd1abe_8f26_11e8_8b8a_001b21bda704row35_col0 {\n",
       "            text-align:  center;\n",
       "        }    #T_4bcd1abe_8f26_11e8_8b8a_001b21bda704row35_col1 {\n",
       "            text-align:  center;\n",
       "        }    #T_4bcd1abe_8f26_11e8_8b8a_001b21bda704row35_col2 {\n",
       "            text-align:  center;\n",
       "        }    #T_4bcd1abe_8f26_11e8_8b8a_001b21bda704row36_col0 {\n",
       "            text-align:  center;\n",
       "        }    #T_4bcd1abe_8f26_11e8_8b8a_001b21bda704row36_col1 {\n",
       "            text-align:  center;\n",
       "        }    #T_4bcd1abe_8f26_11e8_8b8a_001b21bda704row36_col2 {\n",
       "            text-align:  center;\n",
       "        }</style>  \n",
       "<table id=\"T_4bcd1abe_8f26_11e8_8b8a_001b21bda704\" > \n",
       "<thead>    <tr> \n",
       "        <th class=\"blank level0\" ></th> \n",
       "        <th class=\"col_heading level0 col0\" >Image accepted?</th> \n",
       "        <th class=\"col_heading level0 col1\" >Weight</th> \n",
       "        <th class=\"col_heading level0 col2\" >Reason</th> \n",
       "    </tr></thead> \n",
       "<tbody>    <tr> \n",
       "        <th id=\"T_4bcd1abe_8f26_11e8_8b8a_001b21bda704level0_row0\" class=\"row_heading level0 row0\" >00</th> \n",
       "        <td id=\"T_4bcd1abe_8f26_11e8_8b8a_001b21bda704row0_col0\" class=\"data row0 col0\" >False</td> \n",
       "        <td id=\"T_4bcd1abe_8f26_11e8_8b8a_001b21bda704row0_col1\" class=\"data row0 col1\" >nan</td> \n",
       "        <td id=\"T_4bcd1abe_8f26_11e8_8b8a_001b21bda704row0_col2\" class=\"data row0 col2\" >Synthesised beam parameters</td> \n",
       "    </tr>    <tr> \n",
       "        <th id=\"T_4bcd1abe_8f26_11e8_8b8a_001b21bda704level0_row1\" class=\"row_heading level0 row1\" >01</th> \n",
       "        <td id=\"T_4bcd1abe_8f26_11e8_8b8a_001b21bda704row1_col0\" class=\"data row1 col0\" >True</td> \n",
       "        <td id=\"T_4bcd1abe_8f26_11e8_8b8a_001b21bda704row1_col1\" class=\"data row1 col1\" >1.04435</td> \n",
       "        <td id=\"T_4bcd1abe_8f26_11e8_8b8a_001b21bda704row1_col2\" class=\"data row1 col2\" ></td> \n",
       "    </tr>    <tr> \n",
       "        <th id=\"T_4bcd1abe_8f26_11e8_8b8a_001b21bda704level0_row2\" class=\"row_heading level0 row2\" >02</th> \n",
       "        <td id=\"T_4bcd1abe_8f26_11e8_8b8a_001b21bda704row2_col0\" class=\"data row2 col0\" >False</td> \n",
       "        <td id=\"T_4bcd1abe_8f26_11e8_8b8a_001b21bda704row2_col1\" class=\"data row2 col1\" >nan</td> \n",
       "        <td id=\"T_4bcd1abe_8f26_11e8_8b8a_001b21bda704row2_col2\" class=\"data row2 col2\" >No data available</td> \n",
       "    </tr>    <tr> \n",
       "        <th id=\"T_4bcd1abe_8f26_11e8_8b8a_001b21bda704level0_row3\" class=\"row_heading level0 row3\" >03</th> \n",
       "        <td id=\"T_4bcd1abe_8f26_11e8_8b8a_001b21bda704row3_col0\" class=\"data row3 col0\" >False</td> \n",
       "        <td id=\"T_4bcd1abe_8f26_11e8_8b8a_001b21bda704row3_col1\" class=\"data row3 col1\" >nan</td> \n",
       "        <td id=\"T_4bcd1abe_8f26_11e8_8b8a_001b21bda704row3_col2\" class=\"data row3 col2\" >No data available</td> \n",
       "    </tr>    <tr> \n",
       "        <th id=\"T_4bcd1abe_8f26_11e8_8b8a_001b21bda704level0_row4\" class=\"row_heading level0 row4\" >04</th> \n",
       "        <td id=\"T_4bcd1abe_8f26_11e8_8b8a_001b21bda704row4_col0\" class=\"data row4 col0\" >False</td> \n",
       "        <td id=\"T_4bcd1abe_8f26_11e8_8b8a_001b21bda704row4_col1\" class=\"data row4 col1\" >nan</td> \n",
       "        <td id=\"T_4bcd1abe_8f26_11e8_8b8a_001b21bda704row4_col2\" class=\"data row4 col2\" >No data available</td> \n",
       "    </tr>    <tr> \n",
       "        <th id=\"T_4bcd1abe_8f26_11e8_8b8a_001b21bda704level0_row5\" class=\"row_heading level0 row5\" >05</th> \n",
       "        <td id=\"T_4bcd1abe_8f26_11e8_8b8a_001b21bda704row5_col0\" class=\"data row5 col0\" >False</td> \n",
       "        <td id=\"T_4bcd1abe_8f26_11e8_8b8a_001b21bda704row5_col1\" class=\"data row5 col1\" >nan</td> \n",
       "        <td id=\"T_4bcd1abe_8f26_11e8_8b8a_001b21bda704row5_col2\" class=\"data row5 col2\" >No data available</td> \n",
       "    </tr>    <tr> \n",
       "        <th id=\"T_4bcd1abe_8f26_11e8_8b8a_001b21bda704level0_row6\" class=\"row_heading level0 row6\" >06</th> \n",
       "        <td id=\"T_4bcd1abe_8f26_11e8_8b8a_001b21bda704row6_col0\" class=\"data row6 col0\" >False</td> \n",
       "        <td id=\"T_4bcd1abe_8f26_11e8_8b8a_001b21bda704row6_col1\" class=\"data row6 col1\" >nan</td> \n",
       "        <td id=\"T_4bcd1abe_8f26_11e8_8b8a_001b21bda704row6_col2\" class=\"data row6 col2\" >No data available</td> \n",
       "    </tr>    <tr> \n",
       "        <th id=\"T_4bcd1abe_8f26_11e8_8b8a_001b21bda704level0_row7\" class=\"row_heading level0 row7\" >07</th> \n",
       "        <td id=\"T_4bcd1abe_8f26_11e8_8b8a_001b21bda704row7_col0\" class=\"data row7 col0\" >False</td> \n",
       "        <td id=\"T_4bcd1abe_8f26_11e8_8b8a_001b21bda704row7_col1\" class=\"data row7 col1\" >nan</td> \n",
       "        <td id=\"T_4bcd1abe_8f26_11e8_8b8a_001b21bda704row7_col2\" class=\"data row7 col2\" >No data available</td> \n",
       "    </tr>    <tr> \n",
       "        <th id=\"T_4bcd1abe_8f26_11e8_8b8a_001b21bda704level0_row8\" class=\"row_heading level0 row8\" >08</th> \n",
       "        <td id=\"T_4bcd1abe_8f26_11e8_8b8a_001b21bda704row8_col0\" class=\"data row8 col0\" >False</td> \n",
       "        <td id=\"T_4bcd1abe_8f26_11e8_8b8a_001b21bda704row8_col1\" class=\"data row8 col1\" >nan</td> \n",
       "        <td id=\"T_4bcd1abe_8f26_11e8_8b8a_001b21bda704row8_col2\" class=\"data row8 col2\" >No data available</td> \n",
       "    </tr>    <tr> \n",
       "        <th id=\"T_4bcd1abe_8f26_11e8_8b8a_001b21bda704level0_row9\" class=\"row_heading level0 row9\" >09</th> \n",
       "        <td id=\"T_4bcd1abe_8f26_11e8_8b8a_001b21bda704row9_col0\" class=\"data row9 col0\" >False</td> \n",
       "        <td id=\"T_4bcd1abe_8f26_11e8_8b8a_001b21bda704row9_col1\" class=\"data row9 col1\" >nan</td> \n",
       "        <td id=\"T_4bcd1abe_8f26_11e8_8b8a_001b21bda704row9_col2\" class=\"data row9 col2\" >No data available</td> \n",
       "    </tr>    <tr> \n",
       "        <th id=\"T_4bcd1abe_8f26_11e8_8b8a_001b21bda704level0_row10\" class=\"row_heading level0 row10\" >10</th> \n",
       "        <td id=\"T_4bcd1abe_8f26_11e8_8b8a_001b21bda704row10_col0\" class=\"data row10 col0\" >True</td> \n",
       "        <td id=\"T_4bcd1abe_8f26_11e8_8b8a_001b21bda704row10_col1\" class=\"data row10 col1\" >0.955651</td> \n",
       "        <td id=\"T_4bcd1abe_8f26_11e8_8b8a_001b21bda704row10_col2\" class=\"data row10 col2\" ></td> \n",
       "    </tr>    <tr> \n",
       "        <th id=\"T_4bcd1abe_8f26_11e8_8b8a_001b21bda704level0_row11\" class=\"row_heading level0 row11\" >11</th> \n",
       "        <td id=\"T_4bcd1abe_8f26_11e8_8b8a_001b21bda704row11_col0\" class=\"data row11 col0\" >False</td> \n",
       "        <td id=\"T_4bcd1abe_8f26_11e8_8b8a_001b21bda704row11_col1\" class=\"data row11 col1\" >nan</td> \n",
       "        <td id=\"T_4bcd1abe_8f26_11e8_8b8a_001b21bda704row11_col2\" class=\"data row11 col2\" >No data available</td> \n",
       "    </tr>    <tr> \n",
       "        <th id=\"T_4bcd1abe_8f26_11e8_8b8a_001b21bda704level0_row12\" class=\"row_heading level0 row12\" >12</th> \n",
       "        <td id=\"T_4bcd1abe_8f26_11e8_8b8a_001b21bda704row12_col0\" class=\"data row12 col0\" >False</td> \n",
       "        <td id=\"T_4bcd1abe_8f26_11e8_8b8a_001b21bda704row12_col1\" class=\"data row12 col1\" >nan</td> \n",
       "        <td id=\"T_4bcd1abe_8f26_11e8_8b8a_001b21bda704row12_col2\" class=\"data row12 col2\" >No data available</td> \n",
       "    </tr>    <tr> \n",
       "        <th id=\"T_4bcd1abe_8f26_11e8_8b8a_001b21bda704level0_row13\" class=\"row_heading level0 row13\" >13</th> \n",
       "        <td id=\"T_4bcd1abe_8f26_11e8_8b8a_001b21bda704row13_col0\" class=\"data row13 col0\" >False</td> \n",
       "        <td id=\"T_4bcd1abe_8f26_11e8_8b8a_001b21bda704row13_col1\" class=\"data row13 col1\" >nan</td> \n",
       "        <td id=\"T_4bcd1abe_8f26_11e8_8b8a_001b21bda704row13_col2\" class=\"data row13 col2\" >No data available</td> \n",
       "    </tr>    <tr> \n",
       "        <th id=\"T_4bcd1abe_8f26_11e8_8b8a_001b21bda704level0_row14\" class=\"row_heading level0 row14\" >14</th> \n",
       "        <td id=\"T_4bcd1abe_8f26_11e8_8b8a_001b21bda704row14_col0\" class=\"data row14 col0\" >False</td> \n",
       "        <td id=\"T_4bcd1abe_8f26_11e8_8b8a_001b21bda704row14_col1\" class=\"data row14 col1\" >nan</td> \n",
       "        <td id=\"T_4bcd1abe_8f26_11e8_8b8a_001b21bda704row14_col2\" class=\"data row14 col2\" >No data available</td> \n",
       "    </tr>    <tr> \n",
       "        <th id=\"T_4bcd1abe_8f26_11e8_8b8a_001b21bda704level0_row15\" class=\"row_heading level0 row15\" >15</th> \n",
       "        <td id=\"T_4bcd1abe_8f26_11e8_8b8a_001b21bda704row15_col0\" class=\"data row15 col0\" >False</td> \n",
       "        <td id=\"T_4bcd1abe_8f26_11e8_8b8a_001b21bda704row15_col1\" class=\"data row15 col1\" >nan</td> \n",
       "        <td id=\"T_4bcd1abe_8f26_11e8_8b8a_001b21bda704row15_col2\" class=\"data row15 col2\" >Continuum imaging not successful</td> \n",
       "    </tr>    <tr> \n",
       "        <th id=\"T_4bcd1abe_8f26_11e8_8b8a_001b21bda704level0_row16\" class=\"row_heading level0 row16\" >16</th> \n",
       "        <td id=\"T_4bcd1abe_8f26_11e8_8b8a_001b21bda704row16_col0\" class=\"data row16 col0\" >False</td> \n",
       "        <td id=\"T_4bcd1abe_8f26_11e8_8b8a_001b21bda704row16_col1\" class=\"data row16 col1\" >nan</td> \n",
       "        <td id=\"T_4bcd1abe_8f26_11e8_8b8a_001b21bda704row16_col2\" class=\"data row16 col2\" >No data available</td> \n",
       "    </tr>    <tr> \n",
       "        <th id=\"T_4bcd1abe_8f26_11e8_8b8a_001b21bda704level0_row17\" class=\"row_heading level0 row17\" >17</th> \n",
       "        <td id=\"T_4bcd1abe_8f26_11e8_8b8a_001b21bda704row17_col0\" class=\"data row17 col0\" >False</td> \n",
       "        <td id=\"T_4bcd1abe_8f26_11e8_8b8a_001b21bda704row17_col1\" class=\"data row17 col1\" >nan</td> \n",
       "        <td id=\"T_4bcd1abe_8f26_11e8_8b8a_001b21bda704row17_col2\" class=\"data row17 col2\" >No data available</td> \n",
       "    </tr>    <tr> \n",
       "        <th id=\"T_4bcd1abe_8f26_11e8_8b8a_001b21bda704level0_row18\" class=\"row_heading level0 row18\" >18</th> \n",
       "        <td id=\"T_4bcd1abe_8f26_11e8_8b8a_001b21bda704row18_col0\" class=\"data row18 col0\" >False</td> \n",
       "        <td id=\"T_4bcd1abe_8f26_11e8_8b8a_001b21bda704row18_col1\" class=\"data row18 col1\" >nan</td> \n",
       "        <td id=\"T_4bcd1abe_8f26_11e8_8b8a_001b21bda704row18_col2\" class=\"data row18 col2\" >No data available</td> \n",
       "    </tr>    <tr> \n",
       "        <th id=\"T_4bcd1abe_8f26_11e8_8b8a_001b21bda704level0_row19\" class=\"row_heading level0 row19\" >19</th> \n",
       "        <td id=\"T_4bcd1abe_8f26_11e8_8b8a_001b21bda704row19_col0\" class=\"data row19 col0\" >False</td> \n",
       "        <td id=\"T_4bcd1abe_8f26_11e8_8b8a_001b21bda704row19_col1\" class=\"data row19 col1\" >nan</td> \n",
       "        <td id=\"T_4bcd1abe_8f26_11e8_8b8a_001b21bda704row19_col2\" class=\"data row19 col2\" >No data available</td> \n",
       "    </tr>    <tr> \n",
       "        <th id=\"T_4bcd1abe_8f26_11e8_8b8a_001b21bda704level0_row20\" class=\"row_heading level0 row20\" >20</th> \n",
       "        <td id=\"T_4bcd1abe_8f26_11e8_8b8a_001b21bda704row20_col0\" class=\"data row20 col0\" >False</td> \n",
       "        <td id=\"T_4bcd1abe_8f26_11e8_8b8a_001b21bda704row20_col1\" class=\"data row20 col1\" >nan</td> \n",
       "        <td id=\"T_4bcd1abe_8f26_11e8_8b8a_001b21bda704row20_col2\" class=\"data row20 col2\" >No data available</td> \n",
       "    </tr>    <tr> \n",
       "        <th id=\"T_4bcd1abe_8f26_11e8_8b8a_001b21bda704level0_row21\" class=\"row_heading level0 row21\" >21</th> \n",
       "        <td id=\"T_4bcd1abe_8f26_11e8_8b8a_001b21bda704row21_col0\" class=\"data row21 col0\" >False</td> \n",
       "        <td id=\"T_4bcd1abe_8f26_11e8_8b8a_001b21bda704row21_col1\" class=\"data row21 col1\" >nan</td> \n",
       "        <td id=\"T_4bcd1abe_8f26_11e8_8b8a_001b21bda704row21_col2\" class=\"data row21 col2\" >No data available</td> \n",
       "    </tr>    <tr> \n",
       "        <th id=\"T_4bcd1abe_8f26_11e8_8b8a_001b21bda704level0_row22\" class=\"row_heading level0 row22\" >22</th> \n",
       "        <td id=\"T_4bcd1abe_8f26_11e8_8b8a_001b21bda704row22_col0\" class=\"data row22 col0\" >False</td> \n",
       "        <td id=\"T_4bcd1abe_8f26_11e8_8b8a_001b21bda704row22_col1\" class=\"data row22 col1\" >nan</td> \n",
       "        <td id=\"T_4bcd1abe_8f26_11e8_8b8a_001b21bda704row22_col2\" class=\"data row22 col2\" >No data available</td> \n",
       "    </tr>    <tr> \n",
       "        <th id=\"T_4bcd1abe_8f26_11e8_8b8a_001b21bda704level0_row23\" class=\"row_heading level0 row23\" >23</th> \n",
       "        <td id=\"T_4bcd1abe_8f26_11e8_8b8a_001b21bda704row23_col0\" class=\"data row23 col0\" >False</td> \n",
       "        <td id=\"T_4bcd1abe_8f26_11e8_8b8a_001b21bda704row23_col1\" class=\"data row23 col1\" >nan</td> \n",
       "        <td id=\"T_4bcd1abe_8f26_11e8_8b8a_001b21bda704row23_col2\" class=\"data row23 col2\" >No data available</td> \n",
       "    </tr>    <tr> \n",
       "        <th id=\"T_4bcd1abe_8f26_11e8_8b8a_001b21bda704level0_row24\" class=\"row_heading level0 row24\" >24</th> \n",
       "        <td id=\"T_4bcd1abe_8f26_11e8_8b8a_001b21bda704row24_col0\" class=\"data row24 col0\" >False</td> \n",
       "        <td id=\"T_4bcd1abe_8f26_11e8_8b8a_001b21bda704row24_col1\" class=\"data row24 col1\" >nan</td> \n",
       "        <td id=\"T_4bcd1abe_8f26_11e8_8b8a_001b21bda704row24_col2\" class=\"data row24 col2\" >No data available</td> \n",
       "    </tr>    <tr> \n",
       "        <th id=\"T_4bcd1abe_8f26_11e8_8b8a_001b21bda704level0_row25\" class=\"row_heading level0 row25\" >25</th> \n",
       "        <td id=\"T_4bcd1abe_8f26_11e8_8b8a_001b21bda704row25_col0\" class=\"data row25 col0\" >False</td> \n",
       "        <td id=\"T_4bcd1abe_8f26_11e8_8b8a_001b21bda704row25_col1\" class=\"data row25 col1\" >nan</td> \n",
       "        <td id=\"T_4bcd1abe_8f26_11e8_8b8a_001b21bda704row25_col2\" class=\"data row25 col2\" >No data available</td> \n",
       "    </tr>    <tr> \n",
       "        <th id=\"T_4bcd1abe_8f26_11e8_8b8a_001b21bda704level0_row26\" class=\"row_heading level0 row26\" >26</th> \n",
       "        <td id=\"T_4bcd1abe_8f26_11e8_8b8a_001b21bda704row26_col0\" class=\"data row26 col0\" >False</td> \n",
       "        <td id=\"T_4bcd1abe_8f26_11e8_8b8a_001b21bda704row26_col1\" class=\"data row26 col1\" >nan</td> \n",
       "        <td id=\"T_4bcd1abe_8f26_11e8_8b8a_001b21bda704row26_col2\" class=\"data row26 col2\" >No data available</td> \n",
       "    </tr>    <tr> \n",
       "        <th id=\"T_4bcd1abe_8f26_11e8_8b8a_001b21bda704level0_row27\" class=\"row_heading level0 row27\" >27</th> \n",
       "        <td id=\"T_4bcd1abe_8f26_11e8_8b8a_001b21bda704row27_col0\" class=\"data row27 col0\" >False</td> \n",
       "        <td id=\"T_4bcd1abe_8f26_11e8_8b8a_001b21bda704row27_col1\" class=\"data row27 col1\" >nan</td> \n",
       "        <td id=\"T_4bcd1abe_8f26_11e8_8b8a_001b21bda704row27_col2\" class=\"data row27 col2\" >No data available</td> \n",
       "    </tr>    <tr> \n",
       "        <th id=\"T_4bcd1abe_8f26_11e8_8b8a_001b21bda704level0_row28\" class=\"row_heading level0 row28\" >28</th> \n",
       "        <td id=\"T_4bcd1abe_8f26_11e8_8b8a_001b21bda704row28_col0\" class=\"data row28 col0\" >False</td> \n",
       "        <td id=\"T_4bcd1abe_8f26_11e8_8b8a_001b21bda704row28_col1\" class=\"data row28 col1\" >nan</td> \n",
       "        <td id=\"T_4bcd1abe_8f26_11e8_8b8a_001b21bda704row28_col2\" class=\"data row28 col2\" >No data available</td> \n",
       "    </tr>    <tr> \n",
       "        <th id=\"T_4bcd1abe_8f26_11e8_8b8a_001b21bda704level0_row29\" class=\"row_heading level0 row29\" >29</th> \n",
       "        <td id=\"T_4bcd1abe_8f26_11e8_8b8a_001b21bda704row29_col0\" class=\"data row29 col0\" >False</td> \n",
       "        <td id=\"T_4bcd1abe_8f26_11e8_8b8a_001b21bda704row29_col1\" class=\"data row29 col1\" >nan</td> \n",
       "        <td id=\"T_4bcd1abe_8f26_11e8_8b8a_001b21bda704row29_col2\" class=\"data row29 col2\" >No data available</td> \n",
       "    </tr>    <tr> \n",
       "        <th id=\"T_4bcd1abe_8f26_11e8_8b8a_001b21bda704level0_row30\" class=\"row_heading level0 row30\" >30</th> \n",
       "        <td id=\"T_4bcd1abe_8f26_11e8_8b8a_001b21bda704row30_col0\" class=\"data row30 col0\" >False</td> \n",
       "        <td id=\"T_4bcd1abe_8f26_11e8_8b8a_001b21bda704row30_col1\" class=\"data row30 col1\" >nan</td> \n",
       "        <td id=\"T_4bcd1abe_8f26_11e8_8b8a_001b21bda704row30_col2\" class=\"data row30 col2\" >No data available</td> \n",
       "    </tr>    <tr> \n",
       "        <th id=\"T_4bcd1abe_8f26_11e8_8b8a_001b21bda704level0_row31\" class=\"row_heading level0 row31\" >31</th> \n",
       "        <td id=\"T_4bcd1abe_8f26_11e8_8b8a_001b21bda704row31_col0\" class=\"data row31 col0\" >False</td> \n",
       "        <td id=\"T_4bcd1abe_8f26_11e8_8b8a_001b21bda704row31_col1\" class=\"data row31 col1\" >nan</td> \n",
       "        <td id=\"T_4bcd1abe_8f26_11e8_8b8a_001b21bda704row31_col2\" class=\"data row31 col2\" >No data available</td> \n",
       "    </tr>    <tr> \n",
       "        <th id=\"T_4bcd1abe_8f26_11e8_8b8a_001b21bda704level0_row32\" class=\"row_heading level0 row32\" >32</th> \n",
       "        <td id=\"T_4bcd1abe_8f26_11e8_8b8a_001b21bda704row32_col0\" class=\"data row32 col0\" >False</td> \n",
       "        <td id=\"T_4bcd1abe_8f26_11e8_8b8a_001b21bda704row32_col1\" class=\"data row32 col1\" >nan</td> \n",
       "        <td id=\"T_4bcd1abe_8f26_11e8_8b8a_001b21bda704row32_col2\" class=\"data row32 col2\" >No data available</td> \n",
       "    </tr>    <tr> \n",
       "        <th id=\"T_4bcd1abe_8f26_11e8_8b8a_001b21bda704level0_row33\" class=\"row_heading level0 row33\" >33</th> \n",
       "        <td id=\"T_4bcd1abe_8f26_11e8_8b8a_001b21bda704row33_col0\" class=\"data row33 col0\" >False</td> \n",
       "        <td id=\"T_4bcd1abe_8f26_11e8_8b8a_001b21bda704row33_col1\" class=\"data row33 col1\" >nan</td> \n",
       "        <td id=\"T_4bcd1abe_8f26_11e8_8b8a_001b21bda704row33_col2\" class=\"data row33 col2\" >No data available</td> \n",
       "    </tr>    <tr> \n",
       "        <th id=\"T_4bcd1abe_8f26_11e8_8b8a_001b21bda704level0_row34\" class=\"row_heading level0 row34\" >34</th> \n",
       "        <td id=\"T_4bcd1abe_8f26_11e8_8b8a_001b21bda704row34_col0\" class=\"data row34 col0\" >False</td> \n",
       "        <td id=\"T_4bcd1abe_8f26_11e8_8b8a_001b21bda704row34_col1\" class=\"data row34 col1\" >nan</td> \n",
       "        <td id=\"T_4bcd1abe_8f26_11e8_8b8a_001b21bda704row34_col2\" class=\"data row34 col2\" >No data available</td> \n",
       "    </tr>    <tr> \n",
       "        <th id=\"T_4bcd1abe_8f26_11e8_8b8a_001b21bda704level0_row35\" class=\"row_heading level0 row35\" >35</th> \n",
       "        <td id=\"T_4bcd1abe_8f26_11e8_8b8a_001b21bda704row35_col0\" class=\"data row35 col0\" >False</td> \n",
       "        <td id=\"T_4bcd1abe_8f26_11e8_8b8a_001b21bda704row35_col1\" class=\"data row35 col1\" >nan</td> \n",
       "        <td id=\"T_4bcd1abe_8f26_11e8_8b8a_001b21bda704row35_col2\" class=\"data row35 col2\" >No data available</td> \n",
       "    </tr>    <tr> \n",
       "        <th id=\"T_4bcd1abe_8f26_11e8_8b8a_001b21bda704level0_row36\" class=\"row_heading level0 row36\" >36</th> \n",
       "        <td id=\"T_4bcd1abe_8f26_11e8_8b8a_001b21bda704row36_col0\" class=\"data row36 col0\" >False</td> \n",
       "        <td id=\"T_4bcd1abe_8f26_11e8_8b8a_001b21bda704row36_col1\" class=\"data row36 col1\" >nan</td> \n",
       "        <td id=\"T_4bcd1abe_8f26_11e8_8b8a_001b21bda704row36_col2\" class=\"data row36 col2\" >No data available</td> \n",
       "    </tr></tbody> \n",
       "</table> "
      ],
      "text/plain": [
       "<pandas.io.formats.style.Styler at 0x7fcf397549d0>"
      ]
     },
     "execution_count": 3,
     "metadata": {},
     "output_type": "execute_result"
    }
   ],
   "source": [
    "s = mosaic.summary_continuumstacked()\n",
    "s.style\n",
    "\n",
    "d = dict(selector=\"th\", props=[('text-align', 'center')])\n",
    "s.style.set_properties(**{'text-align':'center'})"
   ]
  },
  {
   "cell_type": "markdown",
   "metadata": {},
   "source": [
    "This general summary gives us an overview of the created mosaic. Which beams were accepted, their weights in the mosaic, and a reason if a beam was not accepted."
   ]
  },
  {
   "cell_type": "markdown",
   "metadata": {},
   "source": [
    "# Warning"
   ]
  },
  {
   "cell_type": "markdown",
   "metadata": {},
   "source": [
    "The summary functions as well as the actual reduction routines are using the parameter file `param.npy` located in your `basedir`. In case you want to redo calibration steps use the appropriate `reset` function from now on and don't remove any files by hand unless you know what you are doing. Otherwise the pipeline will get confused and you might need to redo the reduction for several steps."
   ]
  },
  {
   "cell_type": "markdown",
   "metadata": {},
   "source": [
    "Looks like Beam 15 was not included in the mosaic. Let's have a more detailed look what exactly happened."
   ]
  },
  {
   "cell_type": "code",
   "execution_count": null,
   "metadata": {},
   "outputs": [],
   "source": [
    "ds = mosaic.detailed_summary_continuumstacked()\n",
    "ds.style\n",
    "\n",
    "d = dict(selector=\"th\", props=[('text-align', 'center')])\n",
    "ds.style.set_properties(**{'text-align':'center'})"
   ]
  },
  {
   "cell_type": "markdown",
   "metadata": {},
   "source": [
    "The same summary can be used for the mosaic of the 20 MHz chunk images."
   ]
  },
  {
   "cell_type": "code",
   "execution_count": null,
   "metadata": {},
   "outputs": [],
   "source": [
    "sc = mosaic.summary_continuumchunks()\n",
    "sc.style\n",
    "\n",
    "d = dict(selector=\"th\", props=[('text-align', 'center')])\n",
    "sc.style.set_properties(**{'text-align':'center'})"
   ]
  },
  {
   "cell_type": "markdown",
   "metadata": {},
   "source": [
    "A detailed summary is also available, which gives you chunk x beam number of rows leading to a very long table."
   ]
  },
  {
   "cell_type": "code",
   "execution_count": null,
   "metadata": {},
   "outputs": [],
   "source": [
    "dsc = mosaic.detailed_summary_continuumchunks()\n",
    "dsc.style\n",
    "\n",
    "d = dict(selector=\"th\", props=[('text-align', 'center')])\n",
    "dsc.style.set_properties(**{'text-align':'center'})"
   ]
  },
  {
   "cell_type": "markdown",
   "metadata": {},
   "source": [
    "You can give an number to this function to only look at one chunk."
   ]
  },
  {
   "cell_type": "code",
   "execution_count": null,
   "metadata": {},
   "outputs": [],
   "source": [
    "dsc = mosaic.detailed_summary_continuumchunks(7)\n",
    "dsc.style\n",
    "\n",
    "d = dict(selector=\"th\", props=[('text-align', 'center')])\n",
    "dsc.style.set_properties(**{'text-align':'center'})"
   ]
  },
  {
   "cell_type": "markdown",
   "metadata": {},
   "source": [
    "Tracing back the failed beam 15 to the continuum imaging, we can also get a summary for this using the continuum module."
   ]
  },
  {
   "cell_type": "code",
   "execution_count": 2,
   "metadata": {},
   "outputs": [
    {
     "name": "stderr",
     "output_type": "stream",
     "text": [
      "CONTINUUM - INFO : ### Configuration file /home/adebahr/apercal/ipython-notebooks/tutorials/cfg/3.cfg successfully read! ###\n"
     ]
    }
   ],
   "source": [
    "continuum = apercal.continuum('/home/{}/apercal/ipython-notebooks/tutorials/cfg/3.cfg'.format(myusername))\n",
    "continuum.beam = '15'"
   ]
  },
  {
   "cell_type": "markdown",
   "metadata": {},
   "source": [
    "Summaries for the `continuum` module are always only for single beams, so that you have to set the beam parameter beforehand. Otherwise it will use the one given in the config file."
   ]
  },
  {
   "cell_type": "code",
   "execution_count": 3,
   "metadata": {},
   "outputs": [
    {
     "ename": "KeyError",
     "evalue": "'continuum_B15_synthbeamparams'",
     "output_type": "error",
     "traceback": [
      "\u001b[0;31m---------------------------------------------------------------------------\u001b[0m",
      "\u001b[0;31mKeyError\u001b[0m                                  Traceback (most recent call last)",
      "\u001b[0;32m<ipython-input-3-76d1a5e565cb>\u001b[0m in \u001b[0;36m<module>\u001b[0;34m()\u001b[0m\n\u001b[0;32m----> 1\u001b[0;31m \u001b[0mcs\u001b[0m \u001b[0;34m=\u001b[0m \u001b[0mcontinuum\u001b[0m\u001b[0;34m.\u001b[0m\u001b[0msummary\u001b[0m\u001b[0;34m(\u001b[0m\u001b[0;34m)\u001b[0m\u001b[0;34m\u001b[0m\u001b[0m\n\u001b[0m\u001b[1;32m      2\u001b[0m \u001b[0mcs\u001b[0m\u001b[0;34m.\u001b[0m\u001b[0mstyle\u001b[0m\u001b[0;34m\u001b[0m\u001b[0m\n\u001b[1;32m      3\u001b[0m \u001b[0;34m\u001b[0m\u001b[0m\n\u001b[1;32m      4\u001b[0m \u001b[0md\u001b[0m \u001b[0;34m=\u001b[0m \u001b[0mdict\u001b[0m\u001b[0;34m(\u001b[0m\u001b[0mselector\u001b[0m\u001b[0;34m=\u001b[0m\u001b[0;34m\"th\"\u001b[0m\u001b[0;34m,\u001b[0m \u001b[0mprops\u001b[0m\u001b[0;34m=\u001b[0m\u001b[0;34m[\u001b[0m\u001b[0;34m(\u001b[0m\u001b[0;34m'text-align'\u001b[0m\u001b[0;34m,\u001b[0m \u001b[0;34m'center'\u001b[0m\u001b[0;34m)\u001b[0m\u001b[0;34m]\u001b[0m\u001b[0;34m)\u001b[0m\u001b[0;34m\u001b[0m\u001b[0m\n\u001b[1;32m      5\u001b[0m \u001b[0mcs\u001b[0m\u001b[0;34m.\u001b[0m\u001b[0mstyle\u001b[0m\u001b[0;34m.\u001b[0m\u001b[0mset_properties\u001b[0m\u001b[0;34m(\u001b[0m\u001b[0;34m**\u001b[0m\u001b[0;34m{\u001b[0m\u001b[0;34m'text-align'\u001b[0m\u001b[0;34m:\u001b[0m\u001b[0;34m'center'\u001b[0m\u001b[0;34m}\u001b[0m\u001b[0;34m)\u001b[0m\u001b[0;34m\u001b[0m\u001b[0m\n",
      "\u001b[0;32m/home/adebahr/apercal/modules/continuum.pyc\u001b[0m in \u001b[0;36msummary\u001b[0;34m(self)\u001b[0m\n\u001b[1;32m    921\u001b[0m         \u001b[0mIT\u001b[0m \u001b[0;34m=\u001b[0m \u001b[0msubs\u001b[0m\u001b[0;34m.\u001b[0m\u001b[0mparam\u001b[0m\u001b[0;34m.\u001b[0m\u001b[0mget_param\u001b[0m\u001b[0;34m(\u001b[0m\u001b[0mself\u001b[0m\u001b[0;34m,\u001b[0m \u001b[0;34m'continuum_B'\u001b[0m \u001b[0;34m+\u001b[0m \u001b[0mstr\u001b[0m\u001b[0;34m(\u001b[0m\u001b[0mself\u001b[0m\u001b[0;34m.\u001b[0m\u001b[0mbeam\u001b[0m\u001b[0;34m)\u001b[0m\u001b[0;34m.\u001b[0m\u001b[0mzfill\u001b[0m\u001b[0;34m(\u001b[0m\u001b[0;36m2\u001b[0m\u001b[0;34m)\u001b[0m \u001b[0;34m+\u001b[0m \u001b[0;34m'_minoriterations'\u001b[0m\u001b[0;34m)\u001b[0m\u001b[0;34m\u001b[0m\u001b[0m\n\u001b[1;32m    922\u001b[0m         \u001b[0mST\u001b[0m \u001b[0;34m=\u001b[0m \u001b[0msubs\u001b[0m\u001b[0;34m.\u001b[0m\u001b[0mparam\u001b[0m\u001b[0;34m.\u001b[0m\u001b[0mget_param\u001b[0m\u001b[0;34m(\u001b[0m\u001b[0mself\u001b[0m\u001b[0;34m,\u001b[0m \u001b[0;34m'continuum_B'\u001b[0m \u001b[0;34m+\u001b[0m \u001b[0mstr\u001b[0m\u001b[0;34m(\u001b[0m\u001b[0mself\u001b[0m\u001b[0;34m.\u001b[0m\u001b[0mbeam\u001b[0m\u001b[0;34m)\u001b[0m\u001b[0;34m.\u001b[0m\u001b[0mzfill\u001b[0m\u001b[0;34m(\u001b[0m\u001b[0;36m2\u001b[0m\u001b[0;34m)\u001b[0m \u001b[0;34m+\u001b[0m \u001b[0;34m'_status'\u001b[0m\u001b[0;34m)\u001b[0m\u001b[0;34m\u001b[0m\u001b[0m\n\u001b[0;32m--> 923\u001b[0;31m         \u001b[0mSBEAMS\u001b[0m \u001b[0;34m=\u001b[0m \u001b[0msubs\u001b[0m\u001b[0;34m.\u001b[0m\u001b[0mparam\u001b[0m\u001b[0;34m.\u001b[0m\u001b[0mget_param\u001b[0m\u001b[0;34m(\u001b[0m\u001b[0mself\u001b[0m\u001b[0;34m,\u001b[0m \u001b[0;34m'continuum_B'\u001b[0m \u001b[0;34m+\u001b[0m \u001b[0mstr\u001b[0m\u001b[0;34m(\u001b[0m\u001b[0mself\u001b[0m\u001b[0;34m.\u001b[0m\u001b[0mbeam\u001b[0m\u001b[0;34m)\u001b[0m\u001b[0;34m.\u001b[0m\u001b[0mzfill\u001b[0m\u001b[0;34m(\u001b[0m\u001b[0;36m2\u001b[0m\u001b[0;34m)\u001b[0m \u001b[0;34m+\u001b[0m \u001b[0;34m'_synthbeamparams'\u001b[0m\u001b[0;34m)\u001b[0m\u001b[0;34m\u001b[0m\u001b[0m\n\u001b[0m\u001b[1;32m    924\u001b[0m         \u001b[0mSTST\u001b[0m \u001b[0;34m=\u001b[0m \u001b[0msubs\u001b[0m\u001b[0;34m.\u001b[0m\u001b[0mparam\u001b[0m\u001b[0;34m.\u001b[0m\u001b[0mget_param\u001b[0m\u001b[0;34m(\u001b[0m\u001b[0mself\u001b[0m\u001b[0;34m,\u001b[0m \u001b[0;34m'continuum_B'\u001b[0m \u001b[0;34m+\u001b[0m \u001b[0mstr\u001b[0m\u001b[0;34m(\u001b[0m\u001b[0mself\u001b[0m\u001b[0;34m.\u001b[0m\u001b[0mbeam\u001b[0m\u001b[0;34m)\u001b[0m\u001b[0;34m.\u001b[0m\u001b[0mzfill\u001b[0m\u001b[0;34m(\u001b[0m\u001b[0;36m2\u001b[0m\u001b[0;34m)\u001b[0m \u001b[0;34m+\u001b[0m \u001b[0;34m'_stackstatus'\u001b[0m\u001b[0;34m)\u001b[0m\u001b[0;34m\u001b[0m\u001b[0m\n\u001b[1;32m    925\u001b[0m         \u001b[0mICW\u001b[0m \u001b[0;34m=\u001b[0m \u001b[0msubs\u001b[0m\u001b[0;34m.\u001b[0m\u001b[0mparam\u001b[0m\u001b[0;34m.\u001b[0m\u001b[0mget_param\u001b[0m\u001b[0;34m(\u001b[0m\u001b[0mself\u001b[0m\u001b[0;34m,\u001b[0m \u001b[0;34m'continuum_B'\u001b[0m \u001b[0;34m+\u001b[0m \u001b[0mstr\u001b[0m\u001b[0;34m(\u001b[0m\u001b[0mself\u001b[0m\u001b[0;34m.\u001b[0m\u001b[0mbeam\u001b[0m\u001b[0;34m)\u001b[0m\u001b[0;34m.\u001b[0m\u001b[0mzfill\u001b[0m\u001b[0;34m(\u001b[0m\u001b[0;36m2\u001b[0m\u001b[0;34m)\u001b[0m \u001b[0;34m+\u001b[0m \u001b[0;34m'_imcombweights'\u001b[0m\u001b[0;34m)\u001b[0m\u001b[0;34m\u001b[0m\u001b[0m\n",
      "\u001b[0;32m/home/adebahr/apercal/subs/param.pyc\u001b[0m in \u001b[0;36mget_param\u001b[0;34m(self, parameter)\u001b[0m\n\u001b[1;32m     52\u001b[0m     \u001b[0;32melse\u001b[0m\u001b[0;34m:\u001b[0m\u001b[0;34m\u001b[0m\u001b[0m\n\u001b[1;32m     53\u001b[0m         \u001b[0md\u001b[0m \u001b[0;34m=\u001b[0m \u001b[0mnp\u001b[0m\u001b[0;34m.\u001b[0m\u001b[0mload\u001b[0m\u001b[0;34m(\u001b[0m\u001b[0mself\u001b[0m\u001b[0;34m.\u001b[0m\u001b[0mbasedir\u001b[0m \u001b[0;34m+\u001b[0m \u001b[0;34m'param.npy'\u001b[0m\u001b[0;34m)\u001b[0m\u001b[0;34m.\u001b[0m\u001b[0mitem\u001b[0m\u001b[0;34m(\u001b[0m\u001b[0;34m)\u001b[0m\u001b[0;34m\u001b[0m\u001b[0m\n\u001b[0;32m---> 54\u001b[0;31m         \u001b[0mvalues\u001b[0m \u001b[0;34m=\u001b[0m \u001b[0md\u001b[0m\u001b[0;34m[\u001b[0m\u001b[0mparameter\u001b[0m\u001b[0;34m]\u001b[0m\u001b[0;34m\u001b[0m\u001b[0m\n\u001b[0m\u001b[1;32m     55\u001b[0m     \u001b[0;32mreturn\u001b[0m \u001b[0mvalues\u001b[0m\u001b[0;34m\u001b[0m\u001b[0m\n\u001b[1;32m     56\u001b[0m \u001b[0;34m\u001b[0m\u001b[0m\n",
      "\u001b[0;31mKeyError\u001b[0m: 'continuum_B15_synthbeamparams'"
     ]
    }
   ],
   "source": [
    "cs = continuum.summary()\n",
    "cs.style\n",
    "\n",
    "d = dict(selector=\"th\", props=[('text-align', 'center')])\n",
    "cs.style.set_properties(**{'text-align':'center'})"
   ]
  },
  {
   "cell_type": "markdown",
   "metadata": {},
   "source": [
    "A detailed summary is available here as well."
   ]
  },
  {
   "cell_type": "code",
   "execution_count": null,
   "metadata": {},
   "outputs": [],
   "source": [
    "dcs = continuum.detailed_summary()\n",
    "dcs.style\n",
    "\n",
    "d = dict(selector=\"th\", props=[('text-align', 'center')])\n",
    "dcs.style.set_properties(**{'text-align':'center'})"
   ]
  },
  {
   "cell_type": "markdown",
   "metadata": {},
   "source": [
    "These kind of summaries will soon be available for all modules as well as the plotting of gains, bandpasses, images etc. Please let me know what would be the most useful things to automatically show and which parameters solve failed redcution steps."
   ]
  }
 ],
 "metadata": {
  "kernelspec": {
   "display_name": "Python 2",
   "language": "python",
   "name": "python2"
  },
  "language_info": {
   "codemirror_mode": {
    "name": "ipython",
    "version": 2
   },
   "file_extension": ".py",
   "mimetype": "text/x-python",
   "name": "python",
   "nbconvert_exporter": "python",
   "pygments_lexer": "ipython2",
   "version": "2.7.12"
  }
 },
 "nbformat": 4,
 "nbformat_minor": 2
}
