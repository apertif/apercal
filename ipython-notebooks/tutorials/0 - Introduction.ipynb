{
 "cells": [
  {
   "cell_type": "markdown",
   "metadata": {},
   "source": [
    "# Apercal tutorial 0: Introduction"
   ]
  },
  {
   "cell_type": "markdown",
   "metadata": {},
   "source": [
    "The first step is to initialise APERCAL. You need your `apercal` directory added to your `$PYTHONPATH` before you can use it."
   ]
  },
  {
   "cell_type": "code",
   "execution_count": 1,
   "metadata": {},
   "outputs": [],
   "source": [
    "import os\n",
    "import sys"
   ]
  },
  {
   "cell_type": "code",
   "execution_count": 2,
   "metadata": {},
   "outputs": [],
   "source": [
    "here = os.path.abspath(os.curdir)\n",
    "root = os.path.abspath(here + '/../..')\n",
    "sys.path.append(root)\n",
    "config = here + '/cfg/0.cfg'"
   ]
  },
  {
   "cell_type": "markdown",
   "metadata": {},
   "source": [
    "Some more setup work to do:"
   ]
  },
  {
   "cell_type": "code",
   "execution_count": 3,
   "metadata": {},
   "outputs": [
    {
     "name": "stdout",
     "output_type": "stream",
     "text": [
      "Setup logger with lib.setup_logger()\n"
     ]
    }
   ],
   "source": [
    "# Enable auto-completion in the notebook. The different available functions in\n",
    "# the classes and their attributes should now appear while typing commands.\n",
    "%config IPCompleter.greedy=True\n",
    "\n",
    "# Import the lib module to enable the logger.\n",
    "import libs.lib as lib"
   ]
  },
  {
   "cell_type": "markdown",
   "metadata": {},
   "source": [
    "The log file should point to the directory you are reducing the data in.\n",
    "So change this path to your apercal distribution."
   ]
  },
  {
   "cell_type": "code",
   "execution_count": 4,
   "metadata": {},
   "outputs": [
    {
     "name": "stderr",
     "output_type": "stream",
     "text": [
      "root - INFO : Logging started!\n",
      "root - INFO : To see the log in a bash window use the following command:\n",
      "root - INFO : tail -n +1 -f /home/gijs/Work/apercal/ipython-notebooks/tutorials/logs/0.log\n"
     ]
    }
   ],
   "source": [
    "_ = lib.setup_logger('info', logfile=here + '/logs/0.log')"
   ]
  },
  {
   "cell_type": "markdown",
   "metadata": {},
   "source": [
    "Now we start APERCAL. If you start the notebook a popup window will come up where you can define the IP-adress the server runs on.\n",
    "Default should be ok, but be sure to disable the token security or copy the token over from the notebook server you started."
   ]
  },
  {
   "cell_type": "code",
   "execution_count": 5,
   "metadata": {},
   "outputs": [],
   "source": [
    "import apercal"
   ]
  },
  {
   "cell_type": "markdown",
   "metadata": {},
   "source": [
    "In the normal mode APERCAL runs through a defined number of reduction steps with parameters given in a config file.\n",
    "Reduction steps are usually executed in the following order: PREPARE, PREFLAG, CONVERT, CROSSCAL, SELFCAL, CONTINUUM, LINE, POLARISATION, MOSAIC, TRANSFER. <br>\n",
    "If you want to execute a step you need to initialise the class in combination with the config-file."
   ]
  },
  {
   "cell_type": "code",
   "execution_count": 6,
   "metadata": {},
   "outputs": [
    {
     "name": "stderr",
     "output_type": "stream",
     "text": [
      "PREPARE - INFO : ### Configuration file /home/gijs/Work/apercal/ipython-notebooks/tutorials/cfg/0.cfg successfully read! ###\n"
     ]
    }
   ],
   "source": [
    "prepare = apercal.prepare(config)"
   ]
  },
  {
   "cell_type": "code",
   "execution_count": 7,
   "metadata": {},
   "outputs": [
    {
     "ename": "NameError",
     "evalue": "name 'apercal_root' is not defined",
     "output_type": "error",
     "traceback": [
      "\u001b[0;31m---------------------------------------------------------------------------\u001b[0m",
      "\u001b[0;31mNameError\u001b[0m                                 Traceback (most recent call last)",
      "\u001b[0;32m<ipython-input-7-db1abc94ffc8>\u001b[0m in \u001b[0;36m<module>\u001b[0;34m()\u001b[0m\n\u001b[0;32m----> 1\u001b[0;31m \u001b[0mprepare\u001b[0m\u001b[0;34m.\u001b[0m\u001b[0mapercaldir\u001b[0m \u001b[0;34m=\u001b[0m \u001b[0mapercal_root\u001b[0m\u001b[0;34m\u001b[0m\u001b[0m\n\u001b[0m\u001b[1;32m      2\u001b[0m \u001b[0mprepare\u001b[0m\u001b[0;34m.\u001b[0m\u001b[0mbasedir\u001b[0m \u001b[0;34m=\u001b[0m \u001b[0mapercal_root\u001b[0m\u001b[0;34m\u001b[0m\u001b[0m\n",
      "\u001b[0;31mNameError\u001b[0m: name 'apercal_root' is not defined"
     ]
    }
   ],
   "source": [
    "prepare.apercaldir = apercal_root\n",
    "prepare.basedir = apercal_root"
   ]
  },
  {
   "cell_type": "markdown",
   "metadata": {},
   "source": [
    "You should change the `cfg` file to point to your own copy of `apercal`, not those of Björn."
   ]
  },
  {
   "cell_type": "code",
   "execution_count": null,
   "metadata": {},
   "outputs": [],
   "source": [
    "if 'adebahr' in prepare.basedir or 'adebahr' in prepare.apercaldir:\n",
    "    print(\"Please edit tutorials/cfg/0.cfg and remove the references to adebahr.\")"
   ]
  },
  {
   "cell_type": "markdown",
   "metadata": {},
   "source": [
    "You can look at the current parameters for this step using the show function:"
   ]
  },
  {
   "cell_type": "code",
   "execution_count": null,
   "metadata": {},
   "outputs": [],
   "source": [
    "prepare.show()"
   ]
  },
  {
   "cell_type": "markdown",
   "metadata": {},
   "source": [
    "In case you do not give a configuration file the `default.cfg` is used from the main APERCAL directory. These values should also be the ones for which the standard APERTIF data reduction works."
   ]
  },
  {
   "cell_type": "code",
   "execution_count": null,
   "metadata": {},
   "outputs": [],
   "source": [
    "default_prepare = apercal.prepare();"
   ]
  },
  {
   "cell_type": "markdown",
   "metadata": {},
   "source": [
    "You can look at the parameters of the single step again."
   ]
  },
  {
   "cell_type": "code",
   "execution_count": null,
   "metadata": {},
   "outputs": [],
   "source": [
    "prepare.show()"
   ]
  },
  {
   "cell_type": "markdown",
   "metadata": {},
   "source": [
    "The variables pointing to the directories for the location of the original datasets are empty now since they will be different for each individual observation."
   ]
  },
  {
   "cell_type": "markdown",
   "metadata": {},
   "source": [
    "Or look at all current parameters at once using the `showall=True` option. The explanation of all parameters can be found in the `/docs` subfolder of the APERCAL distribution."
   ]
  },
  {
   "cell_type": "code",
   "execution_count": null,
   "metadata": {
    "scrolled": true
   },
   "outputs": [],
   "source": [
    "prepare.show(showall=True)"
   ]
  },
  {
   "cell_type": "markdown",
   "metadata": {},
   "source": [
    "The PREPARE step creates the neccessary directories to start the reduction and copies over the datasets from the original directories to the basedir you give.\n",
    "It has three options single_element, multi_element, and multi_element_90. This defines what kind of dataset you have (or want to reduce) single_element will only copy the central beam with full bandwidth, multi_element will look for all 37 beams, and multi_element_90 splits the recoreded 90 MHz band of the old limited 90 MHz observations\n",
    "\n",
    "To execute a single step with the set parameters you can just give it a go."
   ]
  },
  {
   "cell_type": "code",
   "execution_count": null,
   "metadata": {},
   "outputs": [],
   "source": [
    "from time import time"
   ]
  },
  {
   "cell_type": "code",
   "execution_count": null,
   "metadata": {},
   "outputs": [],
   "source": [
    "prepare.go()"
   ]
  },
  {
   "cell_type": "markdown",
   "metadata": {},
   "source": [
    "Now let's load the convert module and see what it can do. Again exchange the location of the config file with your modified one. (We are skipping the PREFLAG step here)"
   ]
  },
  {
   "cell_type": "code",
   "execution_count": null,
   "metadata": {},
   "outputs": [],
   "source": [
    "convert = apercal.convert(config)"
   ]
  },
  {
   "cell_type": "markdown",
   "metadata": {},
   "source": [
    "You can get a basic explanation and list of methods by using the usual python `help` function. This basically gives you the comments in the code.\n",
    "\n",
    "If you look at the go method you can check in which order the different methods (substeps) are executed.\n",
    "The go method is a fast way to execute a whole step with the current settings. The functions `director`, `reset`, and `show` are available in all modules and implemented in the same way."
   ]
  },
  {
   "cell_type": "code",
   "execution_count": null,
   "metadata": {},
   "outputs": [],
   "source": [
    "help(convert)"
   ]
  },
  {
   "cell_type": "markdown",
   "metadata": {},
   "source": [
    "It does not mean that a certain task is executed when a certain function is executed. The switch for executing a task is in the function itself to give the code a better structure.\n",
    "To illustrate this let's convert the data first:"
   ]
  },
  {
   "cell_type": "code",
   "execution_count": null,
   "metadata": {},
   "outputs": [],
   "source": [
    "convert.go()"
   ]
  },
  {
   "cell_type": "markdown",
   "metadata": {},
   "source": [
    "If you look at the convert step of the config file you see that the parameters `convert_ms2uvfits` and `convert_uvfits2mir` are both set to `True`."
   ]
  },
  {
   "cell_type": "code",
   "execution_count": null,
   "metadata": {},
   "outputs": [],
   "source": [
    "convert.show()"
   ]
  },
  {
   "cell_type": "markdown",
   "metadata": {},
   "source": [
    "Now let's execute the individual substeps of this function individually. First reset the pipeline to the state before the conversion by using the `reset` method.\n",
    "This will delete all converted files in the crosscal directory. Be careful with this command. You might need to execute previous steps of the pipeline again before you can redo things."
   ]
  },
  {
   "cell_type": "code",
   "execution_count": null,
   "metadata": {},
   "outputs": [],
   "source": [
    "convert.reset()"
   ]
  },
  {
   "cell_type": "markdown",
   "metadata": {},
   "source": [
    "The first substep of the go method is `ms2uvfits`. So let's execute only this step.\n",
    "Usually the naming of the individual steps and their corresponding functions is the same."
   ]
  },
  {
   "cell_type": "code",
   "execution_count": null,
   "metadata": {},
   "outputs": [],
   "source": [
    "convert.ms2uvfits()"
   ]
  },
  {
   "cell_type": "markdown",
   "metadata": {},
   "source": [
    "The data is now converted to UVFITS format. Now let's convert only the target data to MIRIAD format. For this we need to change the `convert_fluxcal` parameter to `False`."
   ]
  },
  {
   "cell_type": "code",
   "execution_count": null,
   "metadata": {},
   "outputs": [],
   "source": [
    "convert.convert_fluxcal = False"
   ]
  },
  {
   "cell_type": "markdown",
   "metadata": {},
   "source": [
    "You can always change parameters while executing the pipeline. These parameters are only temporarily changed and overwritten as soon as you load a new config file or restart apercal."
   ]
  },
  {
   "cell_type": "code",
   "execution_count": null,
   "metadata": {},
   "outputs": [],
   "source": [
    "convert.show()"
   ]
  },
  {
   "cell_type": "markdown",
   "metadata": {},
   "source": [
    "And now execute the conversion from UVFITS to MIRIAD format (only for the target data)."
   ]
  },
  {
   "cell_type": "code",
   "execution_count": null,
   "metadata": {},
   "outputs": [],
   "source": [
    "convert.uvfits2miriad()"
   ]
  },
  {
   "cell_type": "markdown",
   "metadata": {},
   "source": [
    "The naming of the data files is always dependent on the input MS-file. The renamiing in the different steps is automatically handled by the pipeline.\n",
    "Even if you start with a already cross-calibrated dataset, use `<filename>.MS` for the initial step, while your actual cross-calibrated MIRIAD file is located in the crosscal subdirectory and named `<filename>.mir`\n",
    "The full directory structure is fixed and documented in \"`2 - Directory structure`\" in the `/docs` subfolder of the APERCAL pipeline directory.\n",
    "\n",
    "Let's reset the convert step again:"
   ]
  },
  {
   "cell_type": "code",
   "execution_count": null,
   "metadata": {},
   "outputs": [],
   "source": [
    "convert.reset()"
   ]
  },
  {
   "cell_type": "markdown",
   "metadata": {},
   "source": [
    "We can also skip the second step (uvfits2miriad) by setting the parameter to false"
   ]
  },
  {
   "cell_type": "code",
   "execution_count": null,
   "metadata": {},
   "outputs": [],
   "source": [
    "convert.convert_uvfits2mir = False\n",
    "convert.show()"
   ]
  },
  {
   "cell_type": "markdown",
   "metadata": {},
   "source": [
    "Now execute with `go`:"
   ]
  },
  {
   "cell_type": "code",
   "execution_count": null,
   "metadata": {},
   "outputs": [],
   "source": [
    "convert.go()"
   ]
  },
  {
   "cell_type": "markdown",
   "metadata": {},
   "source": [
    "Now only the target data was converted and only from MS to UVFITS since the switch for converting from UVFITS to MIRIAD (`convert_uvfits2mir`) is located inside the function itself."
   ]
  },
  {
   "cell_type": "markdown",
   "metadata": {},
   "source": [
    "You can execute single MIRIAD tasks within the notebook. First you have to initialise the task using the `lib` module:"
   ]
  },
  {
   "cell_type": "code",
   "execution_count": null,
   "metadata": {},
   "outputs": [],
   "source": [
    "fits = lib.miriad('fits')"
   ]
  },
  {
   "cell_type": "markdown",
   "metadata": {},
   "source": [
    "Let's convert the NGC4062 data from UVFITS to MIRIAD 'by hand'. You need to change the directory paths to your own directories."
   ]
  },
  {
   "cell_type": "markdown",
   "metadata": {},
   "source": [
    "The MIRIAD `in` keyword needs an additional underscore at the end since python has a predefined global function `in`."
   ]
  },
  {
   "cell_type": "code",
   "execution_count": null,
   "metadata": {},
   "outputs": [],
   "source": [
    "fits.in_ = '/data/{}/apertif/tutorials/T0/00/crosscal/M51.UVFITS'.format(myusername)\n",
    "fits.op = 'uvin'\n",
    "fits.out = '/data/{}/apertif/tutorials/T0/00/crosscal/M51.mir'.format(myusername)\n",
    "\n",
    "fits.go()"
   ]
  },
  {
   "cell_type": "code",
   "execution_count": null,
   "metadata": {},
   "outputs": [],
   "source": []
  }
 ],
 "metadata": {
  "kernelspec": {
   "display_name": "Python 2",
   "language": "python",
   "name": "python2"
  },
  "language_info": {
   "codemirror_mode": {
    "name": "ipython",
    "version": 2
   },
   "file_extension": ".py",
   "mimetype": "text/x-python",
   "name": "python",
   "nbconvert_exporter": "python",
   "pygments_lexer": "ipython2",
   "version": "2.7.15rc1"
  }
 },
 "nbformat": 4,
 "nbformat_minor": 1
}
